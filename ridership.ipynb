{
 "cells": [
  {
   "cell_type": "code",
   "execution_count": 75,
   "metadata": {},
   "outputs": [],
   "source": [
    "import pandas as pd\n",
    "from selenium import webdriver\n",
    "from selenium.webdriver.common.by import By\n",
    "from selenium.webdriver.chrome.options import Options\n",
    "from datetime import date\n",
    "from pathlib import Path"
   ]
  },
  {
   "cell_type": "code",
   "execution_count": 76,
   "metadata": {},
   "outputs": [],
   "source": [
    "options = Options()\n",
    "options.add_argument(\"--blink-settings=imagesEnabled=false\")\n",
    "options.add_argument(\"--headless=new\")\n",
    "options.add_argument(\"--disable-gpu\")\n",
    "options.add_argument(\"--no-sandbox\")\n",
    "options.add_argument(\"user-agent=Mozilla/5.0 (Windows NT 10.0; Win64; x64) AppleWebKit/537.36 (KHTML, like Gecko) Chrome/110.0.5481.77 Safari/537.36\")\n",
    "\n",
    "driver = webdriver.Chrome(options=options)"
   ]
  },
  {
   "cell_type": "code",
   "execution_count": 77,
   "metadata": {},
   "outputs": [],
   "source": [
    "# Load ridership page from BMRCL website\n",
    "driver.get(\"https://english.bmrc.co.in/ridership/\")\n",
    "driver.find_element(By.CLASS_NAME, \"link.top-navcustom-text\").click()"
   ]
  },
  {
   "cell_type": "code",
   "execution_count": 78,
   "metadata": {},
   "outputs": [
    {
     "data": {
      "text/plain": [
       "'Passenger Flow as on 27-10-2024'"
      ]
     },
     "execution_count": 78,
     "metadata": {},
     "output_type": "execute_result"
    }
   ],
   "source": [
    "record_date = driver.find_element(By.TAG_NAME, \"h3\").text\n",
    "record_date"
   ]
  },
  {
   "cell_type": "code",
   "execution_count": 79,
   "metadata": {},
   "outputs": [
    {
     "data": {
      "text/plain": [
       "{'Record Date': ['27-10-2024']}"
      ]
     },
     "execution_count": 79,
     "metadata": {},
     "output_type": "execute_result"
    }
   ],
   "source": [
    "day_record = {}\n",
    "day_record['Record Date'] = list()\n",
    "\n",
    "day_record['Record Date'].append(record_date.split()[-1])\n",
    "day_record"
   ]
  },
  {
   "cell_type": "code",
   "execution_count": 80,
   "metadata": {},
   "outputs": [
    {
     "data": {
      "text/html": [
       "<div>\n",
       "<style scoped>\n",
       "    .dataframe tbody tr th:only-of-type {\n",
       "        vertical-align: middle;\n",
       "    }\n",
       "\n",
       "    .dataframe tbody tr th {\n",
       "        vertical-align: top;\n",
       "    }\n",
       "\n",
       "    .dataframe thead th {\n",
       "        text-align: right;\n",
       "    }\n",
       "</style>\n",
       "<table border=\"1\" class=\"dataframe\">\n",
       "  <thead>\n",
       "    <tr style=\"text-align: right;\">\n",
       "      <th></th>\n",
       "      <th>Record Date</th>\n",
       "      <th>Total Smart Cards</th>\n",
       "      <th>Stored Value Card</th>\n",
       "      <th>One Day Pass</th>\n",
       "      <th>Three Day Pass</th>\n",
       "      <th>Five Day Pass</th>\n",
       "      <th>Tokens</th>\n",
       "      <th>Total NCMC</th>\n",
       "      <th>Group Ticket</th>\n",
       "      <th>Total QR</th>\n",
       "      <th>QR NammaMetro</th>\n",
       "      <th>QR WhatsApp</th>\n",
       "      <th>QR Paytm</th>\n",
       "    </tr>\n",
       "  </thead>\n",
       "  <tbody>\n",
       "    <tr>\n",
       "      <th>0</th>\n",
       "      <td>27-10-2024</td>\n",
       "      <td>176278</td>\n",
       "      <td>175195</td>\n",
       "      <td>971</td>\n",
       "      <td>75</td>\n",
       "      <td>37</td>\n",
       "      <td>250124</td>\n",
       "      <td>4278</td>\n",
       "      <td>458</td>\n",
       "      <td>205910</td>\n",
       "      <td>56321</td>\n",
       "      <td>111959</td>\n",
       "      <td>37630</td>\n",
       "    </tr>\n",
       "  </tbody>\n",
       "</table>\n",
       "</div>"
      ],
      "text/plain": [
       "  Record Date  Total Smart Cards  Stored Value Card  One Day Pass  \\\n",
       "0  27-10-2024             176278             175195           971   \n",
       "\n",
       "   Three Day Pass  Five Day Pass  Tokens  Total NCMC  Group Ticket  Total QR  \\\n",
       "0              75             37  250124        4278           458    205910   \n",
       "\n",
       "   QR NammaMetro  QR WhatsApp  QR Paytm  \n",
       "0          56321       111959     37630  "
      ]
     },
     "execution_count": 80,
     "metadata": {},
     "output_type": "execute_result"
    }
   ],
   "source": [
    "data_points = driver.find_elements(By.CLASS_NAME, \"features-card.achivement-area.bg-color\")\n",
    "\n",
    "for l1 in data_points:\n",
    "    for l2 in l1.text.split('\\n'):\n",
    "        data = l2.split(': ')\n",
    "        day_record[data[0]] = list()\n",
    "        day_record[data[0]].append(int(data[1]))\n",
    "\n",
    "day_record = pd.DataFrame(day_record)\n",
    "day_record"
   ]
  },
  {
   "cell_type": "code",
   "execution_count": 83,
   "metadata": {},
   "outputs": [],
   "source": [
    "filename = \"NammaMetro_Ridership_Dataset.csv\"\n",
    "filePath = Path(filename)\n",
    "\n",
    "if filePath.exists() and filePath.is_file():\n",
    "    day_record.to_csv(filename, mode='a', header=False)\n",
    "else:\n",
    "    day_record.to_csv(filename, mode='a', columns=day_record.keys(), header=True)\n"
   ]
  },
  {
   "cell_type": "code",
   "execution_count": 87,
   "metadata": {},
   "outputs": [
    {
     "data": {
      "text/html": [
       "<div>\n",
       "<style scoped>\n",
       "    .dataframe tbody tr th:only-of-type {\n",
       "        vertical-align: middle;\n",
       "    }\n",
       "\n",
       "    .dataframe tbody tr th {\n",
       "        vertical-align: top;\n",
       "    }\n",
       "\n",
       "    .dataframe thead th {\n",
       "        text-align: right;\n",
       "    }\n",
       "</style>\n",
       "<table border=\"1\" class=\"dataframe\">\n",
       "  <thead>\n",
       "    <tr style=\"text-align: right;\">\n",
       "      <th></th>\n",
       "      <th>Record Date</th>\n",
       "      <th>Total Smart Cards</th>\n",
       "      <th>Stored Value Card</th>\n",
       "      <th>One Day Pass</th>\n",
       "      <th>Three Day Pass</th>\n",
       "      <th>Five Day Pass</th>\n",
       "      <th>Tokens</th>\n",
       "      <th>Total NCMC</th>\n",
       "      <th>Group Ticket</th>\n",
       "      <th>Total QR</th>\n",
       "      <th>QR NammaMetro</th>\n",
       "      <th>QR WhatsApp</th>\n",
       "      <th>QR Paytm</th>\n",
       "    </tr>\n",
       "  </thead>\n",
       "  <tbody>\n",
       "    <tr>\n",
       "      <th>0</th>\n",
       "      <td>26-10-2024</td>\n",
       "      <td>353460</td>\n",
       "      <td>352496</td>\n",
       "      <td>853</td>\n",
       "      <td>43</td>\n",
       "      <td>68</td>\n",
       "      <td>241883</td>\n",
       "      <td>7444</td>\n",
       "      <td>512</td>\n",
       "      <td>177279</td>\n",
       "      <td>49351</td>\n",
       "      <td>95571</td>\n",
       "      <td>32357.0</td>\n",
       "    </tr>\n",
       "    <tr>\n",
       "      <th>1</th>\n",
       "      <td>27-10-2024</td>\n",
       "      <td>176278</td>\n",
       "      <td>175195</td>\n",
       "      <td>971</td>\n",
       "      <td>75</td>\n",
       "      <td>37</td>\n",
       "      <td>250124</td>\n",
       "      <td>4278</td>\n",
       "      <td>458</td>\n",
       "      <td>205910</td>\n",
       "      <td>56321</td>\n",
       "      <td>111959</td>\n",
       "      <td>37630.0</td>\n",
       "    </tr>\n",
       "  </tbody>\n",
       "</table>\n",
       "</div>"
      ],
      "text/plain": [
       "  Record Date  Total Smart Cards  Stored Value Card  One Day Pass  \\\n",
       "0  26-10-2024             353460             352496           853   \n",
       "1  27-10-2024             176278             175195           971   \n",
       "\n",
       "   Three Day Pass  Five Day Pass  Tokens  Total NCMC  Group Ticket  Total QR  \\\n",
       "0              43             68  241883        7444           512    177279   \n",
       "1              75             37  250124        4278           458    205910   \n",
       "\n",
       "   QR NammaMetro  QR WhatsApp  QR Paytm  \n",
       "0          49351        95571   32357.0  \n",
       "1          56321       111959   37630.0  "
      ]
     },
     "execution_count": 87,
     "metadata": {},
     "output_type": "execute_result"
    }
   ],
   "source": [
    "# Optimize dataset by removing duplicates\n",
    "df = pd.read_csv(filename).drop_duplicates(keep='last', ignore_index=True).loc[:,'Record Date':]\n",
    "df.to_csv(filename, mode='w', columns=day_record.keys(), header=True)\n",
    "df"
   ]
  }
 ],
 "metadata": {
  "kernelspec": {
   "display_name": "scala",
   "language": "python",
   "name": "python3"
  },
  "language_info": {
   "codemirror_mode": {
    "name": "ipython",
    "version": 3
   },
   "file_extension": ".py",
   "mimetype": "text/x-python",
   "name": "python",
   "nbconvert_exporter": "python",
   "pygments_lexer": "ipython3",
   "version": "3.12.7"
  }
 },
 "nbformat": 4,
 "nbformat_minor": 2
}
