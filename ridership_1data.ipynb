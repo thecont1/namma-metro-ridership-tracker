{
 "cells": [
  {
   "cell_type": "code",
   "execution_count": 5,
   "metadata": {},
   "outputs": [],
   "source": [
    "import pandas as pd\n",
    "from selenium import webdriver\n",
    "from selenium.webdriver.common.by import By\n",
    "from selenium.webdriver.chrome.options import Options\n",
    "from pathlib import Path\n",
    "import time"
   ]
  },
  {
   "cell_type": "code",
   "execution_count": 6,
   "metadata": {},
   "outputs": [],
   "source": [
    "# Selenium options required to create a 'headless' browser\n",
    "options = Options()\n",
    "options.add_argument(\"--blink-settings=imagesEnabled=false\")\n",
    "options.add_argument(\"--headless=new\")\n",
    "options.add_argument(\"--disable-gpu\")\n",
    "options.add_argument(\"--no-sandbox\")\n",
    "options.add_argument(\"user-agent=Mozilla/5.0 (Windows NT 10.0; Win64; x64) AppleWebKit/537.36 (KHTML, like Gecko) Chrome/110.0.5481.77 Safari/537.37\")\n",
    "\n",
    "driver = webdriver.Chrome(options=options)"
   ]
  },
  {
   "cell_type": "code",
   "execution_count": 7,
   "metadata": {},
   "outputs": [],
   "source": [
    "# Load ridership page from BMRCL website\n",
    "driver.get(\"https://english.bmrc.co.in/ridership/\")\n",
    "\n",
    "# Click on Kannada toggle button to load English results\n",
    "time.sleep(10)  # Allow extra time for JavaScript to load translated data\n",
    "result = driver.find_element(By.CLASS_NAME, \"link.top-navcustom-text\").click()"
   ]
  },
  {
   "cell_type": "code",
   "execution_count": 8,
   "metadata": {},
   "outputs": [
    {
     "data": {
      "text/plain": [
       "'Passenger Flow as on 08-12-2024'"
      ]
     },
     "execution_count": 8,
     "metadata": {},
     "output_type": "execute_result"
    }
   ],
   "source": [
    "# Results are published with a lag of about one day. \n",
    "# So get the date on the page rather than date.today()\n",
    "record_date = driver.find_element(By.TAG_NAME, \"h3\").text\n",
    "record_date"
   ]
  },
  {
   "cell_type": "code",
   "execution_count": 9,
   "metadata": {},
   "outputs": [
    {
     "data": {
      "text/plain": [
       "{'Record Date': ['08-12-2024']}"
      ]
     },
     "execution_count": 9,
     "metadata": {},
     "output_type": "execute_result"
    }
   ],
   "source": [
    "# Initialize dict to store ridership data\n",
    "day_record = {}\n",
    "day_record['Record Date'] = [record_date.split()[-1]]  # Extracting date part\n",
    "day_record"
   ]
  },
  {
   "cell_type": "code",
   "execution_count": 10,
   "metadata": {},
   "outputs": [
    {
     "data": {
      "text/html": [
       "<div>\n",
       "<style scoped>\n",
       "    .dataframe tbody tr th:only-of-type {\n",
       "        vertical-align: middle;\n",
       "    }\n",
       "\n",
       "    .dataframe tbody tr th {\n",
       "        vertical-align: top;\n",
       "    }\n",
       "\n",
       "    .dataframe thead th {\n",
       "        text-align: right;\n",
       "    }\n",
       "</style>\n",
       "<table border=\"1\" class=\"dataframe\">\n",
       "  <thead>\n",
       "    <tr style=\"text-align: right;\">\n",
       "      <th></th>\n",
       "      <th>Record Date</th>\n",
       "      <th>Total Smart Cards</th>\n",
       "      <th>Stored Value Card</th>\n",
       "      <th>One Day Pass</th>\n",
       "      <th>Three Day Pass</th>\n",
       "      <th>Five Day Pass</th>\n",
       "      <th>Tokens</th>\n",
       "      <th>Total NCMC</th>\n",
       "      <th>Group Ticket</th>\n",
       "      <th>Total QR</th>\n",
       "      <th>QR NammaMetro</th>\n",
       "      <th>QR WhatsApp</th>\n",
       "      <th>QR Paytm</th>\n",
       "    </tr>\n",
       "  </thead>\n",
       "  <tbody>\n",
       "    <tr>\n",
       "      <th>0</th>\n",
       "      <td>08-12-2024</td>\n",
       "      <td>183305</td>\n",
       "      <td>182088</td>\n",
       "      <td>1108</td>\n",
       "      <td>50</td>\n",
       "      <td>59</td>\n",
       "      <td>290250</td>\n",
       "      <td>4875</td>\n",
       "      <td>590</td>\n",
       "      <td>238955</td>\n",
       "      <td>63957</td>\n",
       "      <td>131212</td>\n",
       "      <td>43786</td>\n",
       "    </tr>\n",
       "  </tbody>\n",
       "</table>\n",
       "</div>"
      ],
      "text/plain": [
       "  Record Date  Total Smart Cards  Stored Value Card  One Day Pass  \\\n",
       "0  08-12-2024             183305             182088          1108   \n",
       "\n",
       "   Three Day Pass  Five Day Pass  Tokens  Total NCMC  Group Ticket  Total QR  \\\n",
       "0              50             59  290250        4875           590    238955   \n",
       "\n",
       "   QR NammaMetro  QR WhatsApp  QR Paytm  \n",
       "0          63957       131212     43786  "
      ]
     },
     "execution_count": 10,
     "metadata": {},
     "output_type": "execute_result"
    }
   ],
   "source": [
    "# Parse html for remaining data points and store in pandas dataframe\n",
    "data_points = driver.find_elements(By.CLASS_NAME, \"features-card.achivement-area.bg-color\")\n",
    "\n",
    "for l1 in data_points:\n",
    "    for l2 in l1.text.split('\\n'):\n",
    "        data = l2.split(': ')\n",
    "        day_record[data[0]] = [int(data[1])]\n",
    "\n",
    "driver.quit()\n",
    "\n",
    "day_record = pd.DataFrame(day_record)\n",
    "day_record"
   ]
  },
  {
   "cell_type": "code",
   "execution_count": 11,
   "metadata": {},
   "outputs": [
    {
     "name": "stdout",
     "output_type": "stream",
     "text": [
      "Appended NammaMetro_Ridership_Dataset.csv\n"
     ]
    }
   ],
   "source": [
    "# Store data in csv file - create file if necessary\n",
    "filename = \"NammaMetro_Ridership_Dataset.csv\"  \n",
    "filePath = Path(filename)\n",
    "\n",
    "if filePath.exists() and filePath.is_file():\n",
    "    day_record.to_csv(filename, mode='a', header=False)\n",
    "    print('Appended '+filename)\n",
    "else:\n",
    "    day_record.to_csv(filename, mode='w', header=True)\n",
    "    print('Created '+filename)"
   ]
  },
  {
   "cell_type": "code",
   "execution_count": 12,
   "metadata": {},
   "outputs": [
    {
     "data": {
      "text/html": [
       "<div>\n",
       "<style scoped>\n",
       "    .dataframe tbody tr th:only-of-type {\n",
       "        vertical-align: middle;\n",
       "    }\n",
       "\n",
       "    .dataframe tbody tr th {\n",
       "        vertical-align: top;\n",
       "    }\n",
       "\n",
       "    .dataframe thead th {\n",
       "        text-align: right;\n",
       "    }\n",
       "</style>\n",
       "<table border=\"1\" class=\"dataframe\">\n",
       "  <thead>\n",
       "    <tr style=\"text-align: right;\">\n",
       "      <th></th>\n",
       "      <th>Record Date</th>\n",
       "      <th>Total Smart Cards</th>\n",
       "      <th>Stored Value Card</th>\n",
       "      <th>One Day Pass</th>\n",
       "      <th>Three Day Pass</th>\n",
       "      <th>Five Day Pass</th>\n",
       "      <th>Tokens</th>\n",
       "      <th>Total NCMC</th>\n",
       "      <th>Group Ticket</th>\n",
       "      <th>Total QR</th>\n",
       "      <th>QR NammaMetro</th>\n",
       "      <th>QR WhatsApp</th>\n",
       "      <th>QR Paytm</th>\n",
       "    </tr>\n",
       "  </thead>\n",
       "  <tbody>\n",
       "    <tr>\n",
       "      <th>33</th>\n",
       "      <td>04-12-2024</td>\n",
       "      <td>491111</td>\n",
       "      <td>490387</td>\n",
       "      <td>413</td>\n",
       "      <td>200</td>\n",
       "      <td>111</td>\n",
       "      <td>205660</td>\n",
       "      <td>13014</td>\n",
       "      <td>896</td>\n",
       "      <td>190794</td>\n",
       "      <td>54771</td>\n",
       "      <td>97885</td>\n",
       "      <td>38138</td>\n",
       "    </tr>\n",
       "    <tr>\n",
       "      <th>34</th>\n",
       "      <td>05-12-2024</td>\n",
       "      <td>478727</td>\n",
       "      <td>477989</td>\n",
       "      <td>458</td>\n",
       "      <td>79</td>\n",
       "      <td>201</td>\n",
       "      <td>211363</td>\n",
       "      <td>12739</td>\n",
       "      <td>443</td>\n",
       "      <td>197958</td>\n",
       "      <td>56163</td>\n",
       "      <td>102339</td>\n",
       "      <td>39456</td>\n",
       "    </tr>\n",
       "    <tr>\n",
       "      <th>35</th>\n",
       "      <td>06-12-2024</td>\n",
       "      <td>415499</td>\n",
       "      <td>414771</td>\n",
       "      <td>411</td>\n",
       "      <td>93</td>\n",
       "      <td>224</td>\n",
       "      <td>225172</td>\n",
       "      <td>12081</td>\n",
       "      <td>219</td>\n",
       "      <td>117316</td>\n",
       "      <td>1081</td>\n",
       "      <td>102925</td>\n",
       "      <td>46269</td>\n",
       "    </tr>\n",
       "    <tr>\n",
       "      <th>36</th>\n",
       "      <td>07-12-2024</td>\n",
       "      <td>345932</td>\n",
       "      <td>344657</td>\n",
       "      <td>1100</td>\n",
       "      <td>80</td>\n",
       "      <td>95</td>\n",
       "      <td>268704</td>\n",
       "      <td>8885</td>\n",
       "      <td>852</td>\n",
       "      <td>258927</td>\n",
       "      <td>69323</td>\n",
       "      <td>140034</td>\n",
       "      <td>49570</td>\n",
       "    </tr>\n",
       "    <tr>\n",
       "      <th>37</th>\n",
       "      <td>08-12-2024</td>\n",
       "      <td>183305</td>\n",
       "      <td>182088</td>\n",
       "      <td>1108</td>\n",
       "      <td>50</td>\n",
       "      <td>59</td>\n",
       "      <td>290250</td>\n",
       "      <td>4875</td>\n",
       "      <td>590</td>\n",
       "      <td>238955</td>\n",
       "      <td>63957</td>\n",
       "      <td>131212</td>\n",
       "      <td>43786</td>\n",
       "    </tr>\n",
       "  </tbody>\n",
       "</table>\n",
       "</div>"
      ],
      "text/plain": [
       "   Record Date  Total Smart Cards  Stored Value Card  One Day Pass  \\\n",
       "33  04-12-2024             491111             490387           413   \n",
       "34  05-12-2024             478727             477989           458   \n",
       "35  06-12-2024             415499             414771           411   \n",
       "36  07-12-2024             345932             344657          1100   \n",
       "37  08-12-2024             183305             182088          1108   \n",
       "\n",
       "    Three Day Pass  Five Day Pass  Tokens  Total NCMC  Group Ticket  Total QR  \\\n",
       "33             200            111  205660       13014           896    190794   \n",
       "34              79            201  211363       12739           443    197958   \n",
       "35              93            224  225172       12081           219    117316   \n",
       "36              80             95  268704        8885           852    258927   \n",
       "37              50             59  290250        4875           590    238955   \n",
       "\n",
       "    QR NammaMetro  QR WhatsApp  QR Paytm  \n",
       "33          54771        97885     38138  \n",
       "34          56163       102339     39456  \n",
       "35           1081       102925     46269  \n",
       "36          69323       140034     49570  \n",
       "37          63957       131212     43786  "
      ]
     },
     "execution_count": 12,
     "metadata": {},
     "output_type": "execute_result"
    }
   ],
   "source": [
    "# Optimize dataset by removing duplicates and rewrite to file\n",
    "df = pd.read_csv(filename, index_col=0).drop_duplicates(keep='last', ignore_index=True)\n",
    "df[df.loc[:, 'Total Smart Cards':].columns] = df[df.loc[:, 'Total Smart Cards':].columns].astype('Int64')\n",
    "df.to_csv(filename, mode='w', header=True)\n",
    "df.tail()"
   ]
  }
 ],
 "metadata": {
  "kernelspec": {
   "display_name": "scala",
   "language": "python",
   "name": "python3"
  },
  "language_info": {
   "codemirror_mode": {
    "name": "ipython",
    "version": 3
   },
   "file_extension": ".py",
   "mimetype": "text/x-python",
   "name": "python",
   "nbconvert_exporter": "python",
   "pygments_lexer": "ipython3",
   "version": "3.12.7"
  }
 },
 "nbformat": 4,
 "nbformat_minor": 2
}
