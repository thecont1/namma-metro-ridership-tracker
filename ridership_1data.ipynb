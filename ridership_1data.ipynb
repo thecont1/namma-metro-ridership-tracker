{
 "cells": [
  {
   "cell_type": "code",
   "execution_count": 1,
   "metadata": {},
   "outputs": [],
   "source": [
    "import pandas as pd\n",
    "from selenium import webdriver\n",
    "from selenium.webdriver.common.by import By\n",
    "from selenium.webdriver.chrome.options import Options\n",
    "from pathlib import Path\n",
    "import time"
   ]
  },
  {
   "cell_type": "code",
   "execution_count": 2,
   "metadata": {},
   "outputs": [],
   "source": [
    "# Selenium options required to create a 'headless' browser\n",
    "options = Options()\n",
    "options.add_argument(\"--blink-settings=imagesEnabled=false\")\n",
    "options.add_argument(\"--headless=new\")\n",
    "options.add_argument(\"--disable-gpu\")\n",
    "options.add_argument(\"--no-sandbox\")\n",
    "options.add_argument(\"user-agent=Mozilla/5.0 (Windows NT 10.0; Win64; x64) AppleWebKit/537.36 (KHTML, like Gecko) Chrome/110.0.5481.77 Safari/537.37\")\n",
    "\n",
    "driver = webdriver.Chrome(options=options)"
   ]
  },
  {
   "cell_type": "code",
   "execution_count": 3,
   "metadata": {},
   "outputs": [],
   "source": [
    "# Load ridership page from BMRCL website\n",
    "driver.get(\"https://english.bmrc.co.in/ridership/\")\n",
    "\n",
    "# Click on Kannada toggle button to load English results\n",
    "time.sleep(10)  # Allow extra time for JavaScript to load translated data\n",
    "result = driver.find_element(By.CLASS_NAME, \"link.top-navcustom-text\").click()"
   ]
  },
  {
   "cell_type": "code",
   "execution_count": 4,
   "metadata": {},
   "outputs": [
    {
     "data": {
      "text/plain": [
       "'Passenger Flow as on 14-02-2025'"
      ]
     },
     "execution_count": 4,
     "metadata": {},
     "output_type": "execute_result"
    }
   ],
   "source": [
    "# Results are published with a lag of about one day. \n",
    "# So get the date on the page rather than date.today()\n",
    "record_date = driver.find_element(By.TAG_NAME, \"h3\").text\n",
    "record_date"
   ]
  },
  {
   "cell_type": "code",
   "execution_count": 5,
   "metadata": {},
   "outputs": [
    {
     "data": {
      "text/plain": [
       "{'Record Date': ['14-02-2025']}"
      ]
     },
     "execution_count": 5,
     "metadata": {},
     "output_type": "execute_result"
    }
   ],
   "source": [
    "# Initialize dict to store ridership data\n",
    "day_record = {}\n",
    "day_record['Record Date'] = [record_date.split()[-1]]  # Extracting date part\n",
    "day_record"
   ]
  },
  {
   "cell_type": "code",
   "execution_count": 6,
   "metadata": {},
   "outputs": [
    {
     "data": {
      "text/html": [
       "<div>\n",
       "<style scoped>\n",
       "    .dataframe tbody tr th:only-of-type {\n",
       "        vertical-align: middle;\n",
       "    }\n",
       "\n",
       "    .dataframe tbody tr th {\n",
       "        vertical-align: top;\n",
       "    }\n",
       "\n",
       "    .dataframe thead th {\n",
       "        text-align: right;\n",
       "    }\n",
       "</style>\n",
       "<table border=\"1\" class=\"dataframe\">\n",
       "  <thead>\n",
       "    <tr style=\"text-align: right;\">\n",
       "      <th></th>\n",
       "      <th>Record Date</th>\n",
       "      <th>Total Smart Cards</th>\n",
       "      <th>Stored Value Card</th>\n",
       "      <th>One Day Pass</th>\n",
       "      <th>Three Day Pass</th>\n",
       "      <th>Five Day Pass</th>\n",
       "      <th>Total Tokens</th>\n",
       "      <th>Total NCMC</th>\n",
       "      <th>Group Ticket</th>\n",
       "      <th>Total QR</th>\n",
       "      <th>QR NammaMetro</th>\n",
       "      <th>QR WhatsApp</th>\n",
       "      <th>QR Paytm</th>\n",
       "    </tr>\n",
       "  </thead>\n",
       "  <tbody>\n",
       "    <tr>\n",
       "      <th>0</th>\n",
       "      <td>14-02-2025</td>\n",
       "      <td>381182</td>\n",
       "      <td>380410</td>\n",
       "      <td>293</td>\n",
       "      <td>66</td>\n",
       "      <td>413</td>\n",
       "      <td>187060</td>\n",
       "      <td>16023</td>\n",
       "      <td>130</td>\n",
       "      <td>178855</td>\n",
       "      <td>48653</td>\n",
       "      <td>95356</td>\n",
       "      <td>34846</td>\n",
       "    </tr>\n",
       "  </tbody>\n",
       "</table>\n",
       "</div>"
      ],
      "text/plain": [
       "  Record Date  Total Smart Cards  Stored Value Card  One Day Pass  \\\n",
       "0  14-02-2025             381182             380410           293   \n",
       "\n",
       "   Three Day Pass  Five Day Pass  Total Tokens  Total NCMC  Group Ticket  \\\n",
       "0              66            413        187060       16023           130   \n",
       "\n",
       "   Total QR  QR NammaMetro  QR WhatsApp  QR Paytm  \n",
       "0    178855          48653        95356     34846  "
      ]
     },
     "execution_count": 6,
     "metadata": {},
     "output_type": "execute_result"
    }
   ],
   "source": [
    "# Parse html for remaining data points and store in pandas dataframe\n",
    "data_points = driver.find_elements(By.CLASS_NAME, \"features-card.achivement-area.bg-color\")\n",
    "\n",
    "for l1 in data_points:\n",
    "    for l2 in l1.text.split('\\n'):\n",
    "        data = l2.split(': ')\n",
    "        day_record[data[0]] = [int(data[1])]\n",
    "\n",
    "driver.quit()\n",
    "\n",
    "day_record = pd.DataFrame(day_record)\n",
    "day_record.rename(columns={'Tokens':'Total Tokens'}, inplace=True)\n",
    "day_record"
   ]
  },
  {
   "cell_type": "code",
   "execution_count": 7,
   "metadata": {},
   "outputs": [
    {
     "name": "stdout",
     "output_type": "stream",
     "text": [
      "Appended NammaMetro_Ridership_Dataset.csv\n"
     ]
    }
   ],
   "source": [
    "# Store data in csv file - create file if necessary\n",
    "filename = \"NammaMetro_Ridership_Dataset.csv\"  \n",
    "filePath = Path(filename)\n",
    "\n",
    "if filePath.exists() and filePath.is_file():\n",
    "    day_record.to_csv(filename, mode='a', header=False)\n",
    "    print('Appended '+filename)\n",
    "else:\n",
    "    day_record.to_csv(filename, mode='w', header=True)\n",
    "    print('Created '+filename)"
   ]
  },
  {
   "cell_type": "code",
   "execution_count": 8,
   "metadata": {},
   "outputs": [
    {
     "data": {
      "text/html": [
       "<div>\n",
       "<style scoped>\n",
       "    .dataframe tbody tr th:only-of-type {\n",
       "        vertical-align: middle;\n",
       "    }\n",
       "\n",
       "    .dataframe tbody tr th {\n",
       "        vertical-align: top;\n",
       "    }\n",
       "\n",
       "    .dataframe thead th {\n",
       "        text-align: right;\n",
       "    }\n",
       "</style>\n",
       "<table border=\"1\" class=\"dataframe\">\n",
       "  <thead>\n",
       "    <tr style=\"text-align: right;\">\n",
       "      <th></th>\n",
       "      <th>Record Date</th>\n",
       "      <th>Total Smart Cards</th>\n",
       "      <th>Stored Value Card</th>\n",
       "      <th>One Day Pass</th>\n",
       "      <th>Three Day Pass</th>\n",
       "      <th>Five Day Pass</th>\n",
       "      <th>Total Tokens</th>\n",
       "      <th>Total NCMC</th>\n",
       "      <th>Group Ticket</th>\n",
       "      <th>Total QR</th>\n",
       "      <th>QR NammaMetro</th>\n",
       "      <th>QR WhatsApp</th>\n",
       "      <th>QR Paytm</th>\n",
       "    </tr>\n",
       "  </thead>\n",
       "  <tbody>\n",
       "    <tr>\n",
       "      <th>91</th>\n",
       "      <td>10-02-2025</td>\n",
       "      <td>420427</td>\n",
       "      <td>419799</td>\n",
       "      <td>262</td>\n",
       "      <td>41</td>\n",
       "      <td>325</td>\n",
       "      <td>210464</td>\n",
       "      <td>16275</td>\n",
       "      <td>86</td>\n",
       "      <td>180897</td>\n",
       "      <td>49598</td>\n",
       "      <td>97916</td>\n",
       "      <td>33383</td>\n",
       "    </tr>\n",
       "    <tr>\n",
       "      <th>92</th>\n",
       "      <td>11-02-2025</td>\n",
       "      <td>420648</td>\n",
       "      <td>419995</td>\n",
       "      <td>230</td>\n",
       "      <td>57</td>\n",
       "      <td>366</td>\n",
       "      <td>182897</td>\n",
       "      <td>17151</td>\n",
       "      <td>293</td>\n",
       "      <td>157785</td>\n",
       "      <td>42958</td>\n",
       "      <td>84715</td>\n",
       "      <td>30112</td>\n",
       "    </tr>\n",
       "    <tr>\n",
       "      <th>93</th>\n",
       "      <td>12-02-2025</td>\n",
       "      <td>416380</td>\n",
       "      <td>415686</td>\n",
       "      <td>196</td>\n",
       "      <td>108</td>\n",
       "      <td>390</td>\n",
       "      <td>173176</td>\n",
       "      <td>17341</td>\n",
       "      <td>31</td>\n",
       "      <td>155883</td>\n",
       "      <td>43062</td>\n",
       "      <td>82608</td>\n",
       "      <td>30213</td>\n",
       "    </tr>\n",
       "    <tr>\n",
       "      <th>94</th>\n",
       "      <td>13-02-2025</td>\n",
       "      <td>406654</td>\n",
       "      <td>405914</td>\n",
       "      <td>274</td>\n",
       "      <td>94</td>\n",
       "      <td>372</td>\n",
       "      <td>179196</td>\n",
       "      <td>17176</td>\n",
       "      <td>62</td>\n",
       "      <td>148163</td>\n",
       "      <td>40588</td>\n",
       "      <td>78334</td>\n",
       "      <td>29241</td>\n",
       "    </tr>\n",
       "    <tr>\n",
       "      <th>95</th>\n",
       "      <td>14-02-2025</td>\n",
       "      <td>381182</td>\n",
       "      <td>380410</td>\n",
       "      <td>293</td>\n",
       "      <td>66</td>\n",
       "      <td>413</td>\n",
       "      <td>187060</td>\n",
       "      <td>16023</td>\n",
       "      <td>130</td>\n",
       "      <td>178855</td>\n",
       "      <td>48653</td>\n",
       "      <td>95356</td>\n",
       "      <td>34846</td>\n",
       "    </tr>\n",
       "  </tbody>\n",
       "</table>\n",
       "</div>"
      ],
      "text/plain": [
       "   Record Date  Total Smart Cards  Stored Value Card  One Day Pass  \\\n",
       "91  10-02-2025             420427             419799           262   \n",
       "92  11-02-2025             420648             419995           230   \n",
       "93  12-02-2025             416380             415686           196   \n",
       "94  13-02-2025             406654             405914           274   \n",
       "95  14-02-2025             381182             380410           293   \n",
       "\n",
       "    Three Day Pass  Five Day Pass  Total Tokens  Total NCMC  Group Ticket  \\\n",
       "91              41            325        210464       16275            86   \n",
       "92              57            366        182897       17151           293   \n",
       "93             108            390        173176       17341            31   \n",
       "94              94            372        179196       17176            62   \n",
       "95              66            413        187060       16023           130   \n",
       "\n",
       "    Total QR  QR NammaMetro  QR WhatsApp  QR Paytm  \n",
       "91    180897          49598        97916     33383  \n",
       "92    157785          42958        84715     30112  \n",
       "93    155883          43062        82608     30213  \n",
       "94    148163          40588        78334     29241  \n",
       "95    178855          48653        95356     34846  "
      ]
     },
     "execution_count": 8,
     "metadata": {},
     "output_type": "execute_result"
    }
   ],
   "source": [
    "# Optimize dataset by removing duplicates and rewrite to file\n",
    "df = pd.read_csv(filename, index_col=0).drop_duplicates(keep='last', ignore_index=True)\n",
    "df[df.loc[:, 'Total Smart Cards':].columns] = df[df.loc[:, 'Total Smart Cards':].columns].astype('Int64')\n",
    "df.to_csv(filename, mode='w', header=True)\n",
    "df.tail()"
   ]
  }
 ],
 "metadata": {
  "kernelspec": {
   "display_name": "Python 3",
   "language": "python",
   "name": "python3"
  },
  "language_info": {
   "codemirror_mode": {
    "name": "ipython",
    "version": 3
   },
   "file_extension": ".py",
   "mimetype": "text/x-python",
   "name": "python",
   "nbconvert_exporter": "python",
   "pygments_lexer": "ipython3",
   "version": "3.11.11"
  }
 },
 "nbformat": 4,
 "nbformat_minor": 2
}
