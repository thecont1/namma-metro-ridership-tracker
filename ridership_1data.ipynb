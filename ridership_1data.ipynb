{
 "cells": [
  {
   "cell_type": "code",
   "execution_count": 9,
   "metadata": {},
   "outputs": [],
   "source": [
    "import time\n",
    "import pandas as pd\n",
    "from pathlib import Path\n",
    "\n",
    "from selenium import webdriver\n",
    "from selenium.webdriver.common.by import By\n",
    "from selenium.webdriver.chrome.options import Options\n",
    "from selenium.webdriver.support.ui import WebDriverWait\n",
    "from selenium.webdriver.support import expected_conditions as EC\n",
    "from selenium.common.exceptions import NoSuchElementException, TimeoutException, ElementClickInterceptedException\n",
    "\n",
    "filename = \"NammaMetro_Ridership_Dataset.csv\""
   ]
  },
  {
   "cell_type": "code",
   "execution_count": 10,
   "metadata": {},
   "outputs": [],
   "source": [
    "# Selenium options required to create a 'headless' browser\n",
    "options = Options()\n",
    "options.add_argument(\"--blink-settings=imagesEnabled=false\")\n",
    "options.add_argument(\"--headless=new\")\n",
    "options.add_argument(\"--disable-gpu\")\n",
    "options.add_argument(\"--no-sandbox\")\n",
    "options.add_argument(\"--disable-dev-shm-usage\")\n",
    "options.add_argument(\"--window-size=1920,1080\")\n",
    "options.add_argument(\"--incognito\")\n",
    "options.add_argument(\"user-agent=Mozilla/5.0 (Windows NT 10.0; Win64; x64) AppleWebKit/537.36 (KHTML, like Gecko) Chrome/110.0.5481.77 Safari/537.37\")\n",
    "\n",
    "driver = webdriver.Chrome(options=options)\n",
    "wait = WebDriverWait(driver, 20)"
   ]
  },
  {
   "cell_type": "code",
   "execution_count": 11,
   "metadata": {},
   "outputs": [],
   "source": [
    "# Load ridership page from BMRCL website\n",
    "driver.get(\"https://english.bmrc.co.in/ridership/\")\n",
    "\n",
    "# Click on Kannada toggle button to load English results\n",
    "toggle_button = wait.until(EC.element_to_be_clickable((By.CSS_SELECTOR, \".link.top-navcustom-text\")))\n",
    "time.sleep(10)  # mirror script timing before click\n",
    "toggle_button.click()"
   ]
  },
  {
   "cell_type": "code",
   "execution_count": 12,
   "metadata": {},
   "outputs": [
    {
     "data": {
      "text/plain": [
       "'Passenger Flow as on 11-10-2025'"
      ]
     },
     "execution_count": 12,
     "metadata": {},
     "output_type": "execute_result"
    }
   ],
   "source": [
    "# Results are published with a lag of about one day. \n",
    "# So get the date on the page rather than date.today()\n",
    "record_date = wait.until(EC.visibility_of_element_located((By.TAG_NAME, \"h3\"))).text\n",
    "record_date"
   ]
  },
  {
   "cell_type": "code",
   "execution_count": 13,
   "metadata": {},
   "outputs": [
    {
     "data": {
      "text/plain": [
       "{'Record Date': ['11-10-2025']}"
      ]
     },
     "execution_count": 13,
     "metadata": {},
     "output_type": "execute_result"
    }
   ],
   "source": [
    "# Initialize dict to store ridership data\n",
    "day_record = {}\n",
    "day_record['Record Date'] = [record_date.split()[-1]]  # Extracting date part\n",
    "day_record"
   ]
  },
  {
   "cell_type": "code",
   "execution_count": 14,
   "metadata": {},
   "outputs": [
    {
     "data": {
      "text/html": [
       "<div>\n",
       "<style scoped>\n",
       "    .dataframe tbody tr th:only-of-type {\n",
       "        vertical-align: middle;\n",
       "    }\n",
       "\n",
       "    .dataframe tbody tr th {\n",
       "        vertical-align: top;\n",
       "    }\n",
       "\n",
       "    .dataframe thead th {\n",
       "        text-align: right;\n",
       "    }\n",
       "</style>\n",
       "<table border=\"1\" class=\"dataframe\">\n",
       "  <thead>\n",
       "    <tr style=\"text-align: right;\">\n",
       "      <th></th>\n",
       "      <th>Record Date</th>\n",
       "      <th>Total Smart Cards</th>\n",
       "      <th>Stored Value Card</th>\n",
       "      <th>One Day Pass</th>\n",
       "      <th>Three Day Pass</th>\n",
       "      <th>Five Day Pass</th>\n",
       "      <th>Total Tokens</th>\n",
       "      <th>Total NCMC</th>\n",
       "      <th>Group Ticket</th>\n",
       "      <th>Total QR</th>\n",
       "      <th>QR NammaMetro</th>\n",
       "      <th>QR WhatsApp</th>\n",
       "      <th>QR Paytm</th>\n",
       "    </tr>\n",
       "  </thead>\n",
       "  <tbody>\n",
       "    <tr>\n",
       "      <th>0</th>\n",
       "      <td>11-10-2025</td>\n",
       "      <td>297891</td>\n",
       "      <td>297354</td>\n",
       "      <td>330</td>\n",
       "      <td>79</td>\n",
       "      <td>128</td>\n",
       "      <td>311567</td>\n",
       "      <td>40890</td>\n",
       "      <td>343</td>\n",
       "      <td>143606</td>\n",
       "      <td>86498</td>\n",
       "      <td>44928</td>\n",
       "      <td>7815</td>\n",
       "    </tr>\n",
       "  </tbody>\n",
       "</table>\n",
       "</div>"
      ],
      "text/plain": [
       "  Record Date  Total Smart Cards  Stored Value Card  One Day Pass  \\\n",
       "0  11-10-2025             297891             297354           330   \n",
       "\n",
       "   Three Day Pass  Five Day Pass  Total Tokens  Total NCMC  Group Ticket  \\\n",
       "0              79            128        311567       40890           343   \n",
       "\n",
       "   Total QR  QR NammaMetro  QR WhatsApp  QR Paytm  \n",
       "0    143606          86498        44928      7815  "
      ]
     },
     "execution_count": 14,
     "metadata": {},
     "output_type": "execute_result"
    }
   ],
   "source": [
    "# Parse html for remaining data points and store in pandas dataframe\n",
    "data_points = wait.until(EC.presence_of_all_elements_located((By.CSS_SELECTOR, \".features-card.achivement-area.bg-color\")))\n",
    "\n",
    "for l1 in data_points:\n",
    "    for l2 in l1.text.split('\\n'):\n",
    "        data = l2.split(': ')\n",
    "        if len(data) == 2:\n",
    "            key, value = data\n",
    "            try:\n",
    "                day_record[key] = [int(value.replace(',', ''))]\n",
    "            except ValueError:\n",
    "                day_record[key] = [value]\n",
    "\n",
    "driver.quit()\n",
    "\n",
    "day_record = pd.DataFrame(day_record)\n",
    "day_record.rename(columns={'Tokens':'Total Tokens'}, inplace=True)\n",
    "day_record"
   ]
  },
  {
   "cell_type": "code",
   "execution_count": 15,
   "metadata": {},
   "outputs": [
    {
     "name": "stdout",
     "output_type": "stream",
     "text": [
      "Appended NammaMetro_Ridership_Dataset.csv\n"
     ]
    }
   ],
   "source": [
    "# Store data in csv file - create file if necessary\n",
    "filePath = Path(filename)\n",
    "if filePath.exists() and filePath.is_file():\n",
    "    day_record.to_csv(filename, mode='a', header=False, index=False, lineterminator='\\n')\n",
    "    print('Appended '+filename)\n",
    "else:\n",
    "    day_record.to_csv(filename, mode='w', header=True, index=False, lineterminator='\\n')\n",
    "    print('Created '+filename)"
   ]
  },
  {
   "cell_type": "code",
   "execution_count": 16,
   "metadata": {},
   "outputs": [
    {
     "data": {
      "text/html": [
       "<div>\n",
       "<style scoped>\n",
       "    .dataframe tbody tr th:only-of-type {\n",
       "        vertical-align: middle;\n",
       "    }\n",
       "\n",
       "    .dataframe tbody tr th {\n",
       "        vertical-align: top;\n",
       "    }\n",
       "\n",
       "    .dataframe thead th {\n",
       "        text-align: right;\n",
       "    }\n",
       "</style>\n",
       "<table border=\"1\" class=\"dataframe\">\n",
       "  <thead>\n",
       "    <tr style=\"text-align: right;\">\n",
       "      <th></th>\n",
       "      <th>Record Date</th>\n",
       "      <th>Total Smart Cards</th>\n",
       "      <th>Stored Value Card</th>\n",
       "      <th>One Day Pass</th>\n",
       "      <th>Three Day Pass</th>\n",
       "      <th>Five Day Pass</th>\n",
       "      <th>Total Tokens</th>\n",
       "      <th>Total NCMC</th>\n",
       "      <th>Group Ticket</th>\n",
       "      <th>Total QR</th>\n",
       "      <th>QR NammaMetro</th>\n",
       "      <th>QR WhatsApp</th>\n",
       "      <th>QR Paytm</th>\n",
       "    </tr>\n",
       "  </thead>\n",
       "  <tbody>\n",
       "    <tr>\n",
       "      <th>261</th>\n",
       "      <td>04-10-2025</td>\n",
       "      <td>244249</td>\n",
       "      <td>243426</td>\n",
       "      <td>631</td>\n",
       "      <td>99</td>\n",
       "      <td>93</td>\n",
       "      <td>270822</td>\n",
       "      <td>28446</td>\n",
       "      <td>280</td>\n",
       "      <td>98542</td>\n",
       "      <td>60465</td>\n",
       "      <td>31538</td>\n",
       "      <td>4977</td>\n",
       "    </tr>\n",
       "    <tr>\n",
       "      <th>262</th>\n",
       "      <td>06-10-2025</td>\n",
       "      <td>454943</td>\n",
       "      <td>453961</td>\n",
       "      <td>199</td>\n",
       "      <td>29</td>\n",
       "      <td>754</td>\n",
       "      <td>277752</td>\n",
       "      <td>53855</td>\n",
       "      <td>490</td>\n",
       "      <td>112825</td>\n",
       "      <td>73443</td>\n",
       "      <td>31251</td>\n",
       "      <td>5411</td>\n",
       "    </tr>\n",
       "    <tr>\n",
       "      <th>263</th>\n",
       "      <td>09-10-2025</td>\n",
       "      <td>453055</td>\n",
       "      <td>452011</td>\n",
       "      <td>175</td>\n",
       "      <td>44</td>\n",
       "      <td>825</td>\n",
       "      <td>247329</td>\n",
       "      <td>63691</td>\n",
       "      <td>166</td>\n",
       "      <td>93815</td>\n",
       "      <td>67335</td>\n",
       "      <td>84416</td>\n",
       "      <td>5369</td>\n",
       "    </tr>\n",
       "    <tr>\n",
       "      <th>264</th>\n",
       "      <td>10-10-2025</td>\n",
       "      <td>471904</td>\n",
       "      <td>470843</td>\n",
       "      <td>145</td>\n",
       "      <td>61</td>\n",
       "      <td>855</td>\n",
       "      <td>248303</td>\n",
       "      <td>61216</td>\n",
       "      <td>230</td>\n",
       "      <td>100450</td>\n",
       "      <td>69750</td>\n",
       "      <td>38647</td>\n",
       "      <td>5470</td>\n",
       "    </tr>\n",
       "    <tr>\n",
       "      <th>265</th>\n",
       "      <td>11-10-2025</td>\n",
       "      <td>297891</td>\n",
       "      <td>297354</td>\n",
       "      <td>330</td>\n",
       "      <td>79</td>\n",
       "      <td>128</td>\n",
       "      <td>311567</td>\n",
       "      <td>40890</td>\n",
       "      <td>343</td>\n",
       "      <td>143606</td>\n",
       "      <td>86498</td>\n",
       "      <td>44928</td>\n",
       "      <td>7815</td>\n",
       "    </tr>\n",
       "  </tbody>\n",
       "</table>\n",
       "</div>"
      ],
      "text/plain": [
       "    Record Date  Total Smart Cards  Stored Value Card  One Day Pass  \\\n",
       "261  04-10-2025             244249             243426           631   \n",
       "262  06-10-2025             454943             453961           199   \n",
       "263  09-10-2025             453055             452011           175   \n",
       "264  10-10-2025             471904             470843           145   \n",
       "265  11-10-2025             297891             297354           330   \n",
       "\n",
       "     Three Day Pass  Five Day Pass  Total Tokens  Total NCMC  Group Ticket  \\\n",
       "261              99             93        270822       28446           280   \n",
       "262              29            754        277752       53855           490   \n",
       "263              44            825        247329       63691           166   \n",
       "264              61            855        248303       61216           230   \n",
       "265              79            128        311567       40890           343   \n",
       "\n",
       "     Total QR  QR NammaMetro  QR WhatsApp  QR Paytm  \n",
       "261     98542          60465        31538      4977  \n",
       "262    112825          73443        31251      5411  \n",
       "263     93815          67335        84416      5369  \n",
       "264    100450          69750        38647      5470  \n",
       "265    143606          86498        44928      7815  "
      ]
     },
     "execution_count": 16,
     "metadata": {},
     "output_type": "execute_result"
    }
   ],
   "source": [
    "# Optimize dataset by removing duplicates and rewrite to file\n",
    "df = pd.read_csv(filename).drop_duplicates(subset=['Record Date'], keep='last', ignore_index=True)\n",
    "df[df.loc[:, 'Total Smart Cards':].columns] = df[df.loc[:, 'Total Smart Cards':].columns].astype('Int64')\n",
    "df.to_csv(filename, mode='w', header=True, index=False, lineterminator='\\n')\n",
    "df.tail()"
   ]
  }
 ],
 "metadata": {
  "kernelspec": {
   "display_name": "Personal Projects (UV)",
   "language": "python",
   "name": "jk-personal-projects"
  },
  "language_info": {
   "codemirror_mode": {
    "name": "ipython",
    "version": 3
   },
   "file_extension": ".py",
   "mimetype": "text/x-python",
   "name": "python",
   "nbconvert_exporter": "python",
   "pygments_lexer": "ipython3",
   "version": "3.13.6"
  }
 },
 "nbformat": 4,
 "nbformat_minor": 2
}
