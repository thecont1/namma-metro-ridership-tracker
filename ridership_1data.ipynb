{
 "cells": [
  {
   "cell_type": "code",
   "execution_count": 37,
   "metadata": {},
   "outputs": [],
   "source": [
    "import pandas as pd\n",
    "from selenium import webdriver\n",
    "from selenium.webdriver.common.by import By\n",
    "from selenium.webdriver.chrome.options import Options\n",
    "from pathlib import Path\n",
    "import time"
   ]
  },
  {
   "cell_type": "code",
   "execution_count": 38,
   "metadata": {},
   "outputs": [],
   "source": [
    "# Selenium options required to create a 'headless' browser\n",
    "options = Options()\n",
    "options.add_argument(\"--blink-settings=imagesEnabled=false\")\n",
    "options.add_argument(\"--headless=new\")\n",
    "options.add_argument(\"--disable-gpu\")\n",
    "options.add_argument(\"--no-sandbox\")\n",
    "options.add_argument(\"user-agent=Mozilla/5.0 (Windows NT 10.0; Win64; x64) AppleWebKit/537.36 (KHTML, like Gecko) Chrome/110.0.5481.77 Safari/537.37\")\n",
    "\n",
    "driver = webdriver.Chrome(options=options)"
   ]
  },
  {
   "cell_type": "code",
   "execution_count": 39,
   "metadata": {},
   "outputs": [],
   "source": [
    "# Load ridership page from BMRCL website\n",
    "driver.get(\"https://english.bmrc.co.in/ridership/\")\n",
    "\n",
    "# Click on Kannada toggle button to load English results\n",
    "time.sleep(10)  # Allow extra time for JavaScript to load translated data\n",
    "result = driver.find_element(By.CLASS_NAME, \"link.top-navcustom-text\").click()"
   ]
  },
  {
   "cell_type": "code",
   "execution_count": 40,
   "metadata": {},
   "outputs": [
    {
     "data": {
      "text/plain": [
       "'Passenger Flow as on 03-12-2024'"
      ]
     },
     "execution_count": 40,
     "metadata": {},
     "output_type": "execute_result"
    }
   ],
   "source": [
    "# Results are published with a lag of about one day. \n",
    "# So get the date on the page rather than date.today()\n",
    "record_date = driver.find_element(By.TAG_NAME, \"h3\").text\n",
    "record_date"
   ]
  },
  {
   "cell_type": "code",
   "execution_count": 41,
   "metadata": {},
   "outputs": [
    {
     "data": {
      "text/plain": [
       "{'Record Date': ['03-12-2024']}"
      ]
     },
     "execution_count": 41,
     "metadata": {},
     "output_type": "execute_result"
    }
   ],
   "source": [
    "# Initialize dict to store ridership data\n",
    "day_record = {}\n",
    "day_record['Record Date'] = [record_date.split()[-1]]  # Extracting date part\n",
    "day_record"
   ]
  },
  {
   "cell_type": "code",
   "execution_count": 42,
   "metadata": {},
   "outputs": [
    {
     "data": {
      "text/html": [
       "<div>\n",
       "<style scoped>\n",
       "    .dataframe tbody tr th:only-of-type {\n",
       "        vertical-align: middle;\n",
       "    }\n",
       "\n",
       "    .dataframe tbody tr th {\n",
       "        vertical-align: top;\n",
       "    }\n",
       "\n",
       "    .dataframe thead th {\n",
       "        text-align: right;\n",
       "    }\n",
       "</style>\n",
       "<table border=\"1\" class=\"dataframe\">\n",
       "  <thead>\n",
       "    <tr style=\"text-align: right;\">\n",
       "      <th></th>\n",
       "      <th>Record Date</th>\n",
       "      <th>Total Smart Cards</th>\n",
       "      <th>Stored Value Card</th>\n",
       "      <th>One Day Pass</th>\n",
       "      <th>Three Day Pass</th>\n",
       "      <th>Five Day Pass</th>\n",
       "      <th>Tokens</th>\n",
       "      <th>Total NCMC</th>\n",
       "      <th>Group Ticket</th>\n",
       "      <th>Total QR</th>\n",
       "      <th>QR NammaMetro</th>\n",
       "      <th>QR WhatsApp</th>\n",
       "      <th>QR Paytm</th>\n",
       "    </tr>\n",
       "  </thead>\n",
       "  <tbody>\n",
       "    <tr>\n",
       "      <th>0</th>\n",
       "      <td>03-12-2024</td>\n",
       "      <td>461996</td>\n",
       "      <td>461278</td>\n",
       "      <td>429</td>\n",
       "      <td>95</td>\n",
       "      <td>194</td>\n",
       "      <td>198932</td>\n",
       "      <td>12319</td>\n",
       "      <td>325</td>\n",
       "      <td>155053</td>\n",
       "      <td>51715</td>\n",
       "      <td>65741</td>\n",
       "      <td>37597</td>\n",
       "    </tr>\n",
       "  </tbody>\n",
       "</table>\n",
       "</div>"
      ],
      "text/plain": [
       "  Record Date  Total Smart Cards  Stored Value Card  One Day Pass  \\\n",
       "0  03-12-2024             461996             461278           429   \n",
       "\n",
       "   Three Day Pass  Five Day Pass  Tokens  Total NCMC  Group Ticket  Total QR  \\\n",
       "0              95            194  198932       12319           325    155053   \n",
       "\n",
       "   QR NammaMetro  QR WhatsApp  QR Paytm  \n",
       "0          51715        65741     37597  "
      ]
     },
     "execution_count": 42,
     "metadata": {},
     "output_type": "execute_result"
    }
   ],
   "source": [
    "# Parse html for remaining data points and store in pandas dataframe\n",
    "data_points = driver.find_elements(By.CLASS_NAME, \"features-card.achivement-area.bg-color\")\n",
    "\n",
    "for l1 in data_points:\n",
    "    for l2 in l1.text.split('\\n'):\n",
    "        data = l2.split(': ')\n",
    "        day_record[data[0]] = [int(data[1])]\n",
    "\n",
    "driver.quit()\n",
    "\n",
    "day_record = pd.DataFrame(day_record)\n",
    "day_record"
   ]
  },
  {
   "cell_type": "code",
   "execution_count": 43,
   "metadata": {},
   "outputs": [
    {
     "name": "stdout",
     "output_type": "stream",
     "text": [
      "Appended NammaMetro_Ridership_Dataset.csv\n"
     ]
    }
   ],
   "source": [
    "# Store data in csv file - create file if necessary\n",
    "filename = \"NammaMetro_Ridership_Dataset.csv\"  \n",
    "filePath = Path(filename)\n",
    "\n",
    "if filePath.exists() and filePath.is_file():\n",
    "    day_record.to_csv(filename, mode='a', header=False)\n",
    "    print('Appended '+filename)\n",
    "else:\n",
    "    day_record.to_csv(filename, mode='w', header=True)\n",
    "    print('Created '+filename)"
   ]
  },
  {
   "cell_type": "code",
   "execution_count": 45,
   "metadata": {},
   "outputs": [
    {
     "data": {
      "text/html": [
       "<div>\n",
       "<style scoped>\n",
       "    .dataframe tbody tr th:only-of-type {\n",
       "        vertical-align: middle;\n",
       "    }\n",
       "\n",
       "    .dataframe tbody tr th {\n",
       "        vertical-align: top;\n",
       "    }\n",
       "\n",
       "    .dataframe thead th {\n",
       "        text-align: right;\n",
       "    }\n",
       "</style>\n",
       "<table border=\"1\" class=\"dataframe\">\n",
       "  <thead>\n",
       "    <tr style=\"text-align: right;\">\n",
       "      <th></th>\n",
       "      <th>Record Date</th>\n",
       "      <th>Total Smart Cards</th>\n",
       "      <th>Stored Value Card</th>\n",
       "      <th>One Day Pass</th>\n",
       "      <th>Three Day Pass</th>\n",
       "      <th>Five Day Pass</th>\n",
       "      <th>Tokens</th>\n",
       "      <th>Total NCMC</th>\n",
       "      <th>Group Ticket</th>\n",
       "      <th>Total QR</th>\n",
       "      <th>QR NammaMetro</th>\n",
       "      <th>QR WhatsApp</th>\n",
       "      <th>QR Paytm</th>\n",
       "    </tr>\n",
       "  </thead>\n",
       "  <tbody>\n",
       "    <tr>\n",
       "      <th>28</th>\n",
       "      <td>29-11-2024</td>\n",
       "      <td>459914</td>\n",
       "      <td>458983</td>\n",
       "      <td>644</td>\n",
       "      <td>77</td>\n",
       "      <td>210</td>\n",
       "      <td>205777</td>\n",
       "      <td>11220</td>\n",
       "      <td>780</td>\n",
       "      <td>181937</td>\n",
       "      <td>50383</td>\n",
       "      <td>97180</td>\n",
       "      <td>34374</td>\n",
       "    </tr>\n",
       "    <tr>\n",
       "      <th>29</th>\n",
       "      <td>30-11-2024</td>\n",
       "      <td>391894</td>\n",
       "      <td>390520</td>\n",
       "      <td>1180</td>\n",
       "      <td>142</td>\n",
       "      <td>52</td>\n",
       "      <td>234756</td>\n",
       "      <td>8428</td>\n",
       "      <td>1045</td>\n",
       "      <td>178402</td>\n",
       "      <td>47520</td>\n",
       "      <td>97787</td>\n",
       "      <td>33095</td>\n",
       "    </tr>\n",
       "    <tr>\n",
       "      <th>30</th>\n",
       "      <td>01-12-2024</td>\n",
       "      <td>154334</td>\n",
       "      <td>153369</td>\n",
       "      <td>816</td>\n",
       "      <td>110</td>\n",
       "      <td>39</td>\n",
       "      <td>220404</td>\n",
       "      <td>4122</td>\n",
       "      <td>600</td>\n",
       "      <td>196242</td>\n",
       "      <td>52072</td>\n",
       "      <td>107955</td>\n",
       "      <td>36215</td>\n",
       "    </tr>\n",
       "    <tr>\n",
       "      <th>31</th>\n",
       "      <td>02-12-2024</td>\n",
       "      <td>409724</td>\n",
       "      <td>409132</td>\n",
       "      <td>340</td>\n",
       "      <td>90</td>\n",
       "      <td>162</td>\n",
       "      <td>187408</td>\n",
       "      <td>10402</td>\n",
       "      <td>872</td>\n",
       "      <td>177203</td>\n",
       "      <td>50580</td>\n",
       "      <td>93367</td>\n",
       "      <td>33256</td>\n",
       "    </tr>\n",
       "    <tr>\n",
       "      <th>32</th>\n",
       "      <td>03-12-2024</td>\n",
       "      <td>461996</td>\n",
       "      <td>461278</td>\n",
       "      <td>429</td>\n",
       "      <td>95</td>\n",
       "      <td>194</td>\n",
       "      <td>198932</td>\n",
       "      <td>12319</td>\n",
       "      <td>325</td>\n",
       "      <td>155053</td>\n",
       "      <td>51715</td>\n",
       "      <td>65741</td>\n",
       "      <td>37597</td>\n",
       "    </tr>\n",
       "  </tbody>\n",
       "</table>\n",
       "</div>"
      ],
      "text/plain": [
       "   Record Date  Total Smart Cards  Stored Value Card  One Day Pass  \\\n",
       "28  29-11-2024             459914             458983           644   \n",
       "29  30-11-2024             391894             390520          1180   \n",
       "30  01-12-2024             154334             153369           816   \n",
       "31  02-12-2024             409724             409132           340   \n",
       "32  03-12-2024             461996             461278           429   \n",
       "\n",
       "    Three Day Pass  Five Day Pass  Tokens  Total NCMC  Group Ticket  Total QR  \\\n",
       "28              77            210  205777       11220           780    181937   \n",
       "29             142             52  234756        8428          1045    178402   \n",
       "30             110             39  220404        4122           600    196242   \n",
       "31              90            162  187408       10402           872    177203   \n",
       "32              95            194  198932       12319           325    155053   \n",
       "\n",
       "    QR NammaMetro  QR WhatsApp  QR Paytm  \n",
       "28          50383        97180     34374  \n",
       "29          47520        97787     33095  \n",
       "30          52072       107955     36215  \n",
       "31          50580        93367     33256  \n",
       "32          51715        65741     37597  "
      ]
     },
     "execution_count": 45,
     "metadata": {},
     "output_type": "execute_result"
    }
   ],
   "source": [
    "# Optimize dataset by removing duplicates and rewrite to file\n",
    "df = pd.read_csv(filename, index_col=0).drop_duplicates(keep='last', ignore_index=True)\n",
    "df[df.loc[:, 'Total Smart Cards':].columns] = df[df.loc[:, 'Total Smart Cards':].columns].astype('Int64')\n",
    "df.to_csv(filename, mode='w', header=True)\n",
    "df.tail()\n"
   ]
  }
 ],
 "metadata": {
  "kernelspec": {
   "display_name": "scala",
   "language": "python",
   "name": "python3"
  },
  "language_info": {
   "codemirror_mode": {
    "name": "ipython",
    "version": 3
   },
   "file_extension": ".py",
   "mimetype": "text/x-python",
   "name": "python",
   "nbconvert_exporter": "python",
   "pygments_lexer": "ipython3",
   "version": "3.12.7"
  }
 },
 "nbformat": 4,
 "nbformat_minor": 2
}
