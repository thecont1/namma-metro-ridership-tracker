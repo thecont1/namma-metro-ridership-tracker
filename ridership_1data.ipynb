{
 "cells": [
  {
   "cell_type": "code",
   "execution_count": 1,
   "metadata": {},
   "outputs": [],
   "source": [
    "import pandas as pd\n",
    "from selenium import webdriver\n",
    "from selenium.webdriver.common.by import By\n",
    "from selenium.webdriver.chrome.options import Options\n",
    "from pathlib import Path\n",
    "import time"
   ]
  },
  {
   "cell_type": "code",
   "execution_count": 2,
   "metadata": {},
   "outputs": [],
   "source": [
    "# Selenium options required to create a 'headless' browser\n",
    "options = Options()\n",
    "options.add_argument(\"--blink-settings=imagesEnabled=false\")\n",
    "options.add_argument(\"--headless=new\")\n",
    "options.add_argument(\"--disable-gpu\")\n",
    "options.add_argument(\"--no-sandbox\")\n",
    "options.add_argument(\"user-agent=Mozilla/5.0 (Windows NT 10.0; Win64; x64) AppleWebKit/537.36 (KHTML, like Gecko) Chrome/110.0.5481.77 Safari/537.37\")\n",
    "\n",
    "driver = webdriver.Chrome(options=options)"
   ]
  },
  {
   "cell_type": "code",
   "execution_count": 3,
   "metadata": {},
   "outputs": [],
   "source": [
    "# Load ridership page from BMRCL website\n",
    "driver.get(\"https://english.bmrc.co.in/ridership/\")\n",
    "\n",
    "# Click on Kannada toggle button to load English results\n",
    "time.sleep(10)  # Allow extra time for JavaScript to load translated data\n",
    "result = driver.find_element(By.CLASS_NAME, \"link.top-navcustom-text\").click()"
   ]
  },
  {
   "cell_type": "code",
   "execution_count": 4,
   "metadata": {},
   "outputs": [
    {
     "data": {
      "text/plain": [
       "'Passenger Flow as on 03-11-2024'"
      ]
     },
     "execution_count": 4,
     "metadata": {},
     "output_type": "execute_result"
    }
   ],
   "source": [
    "# Results are published with a lag of about one day. \n",
    "# So get the date on the page rather than date.today()\n",
    "record_date = driver.find_element(By.TAG_NAME, \"h3\").text\n",
    "record_date"
   ]
  },
  {
   "cell_type": "code",
   "execution_count": 5,
   "metadata": {},
   "outputs": [
    {
     "data": {
      "text/plain": [
       "{'Record Date': ['03-11-2024']}"
      ]
     },
     "execution_count": 5,
     "metadata": {},
     "output_type": "execute_result"
    }
   ],
   "source": [
    "# Initialize dict to store ridership data\n",
    "day_record = {}\n",
    "day_record['Record Date'] = [record_date.split()[-1]]  # Extracting date part\n",
    "day_record"
   ]
  },
  {
   "cell_type": "code",
   "execution_count": 6,
   "metadata": {},
   "outputs": [
    {
     "data": {
      "text/html": [
       "<div>\n",
       "<style scoped>\n",
       "    .dataframe tbody tr th:only-of-type {\n",
       "        vertical-align: middle;\n",
       "    }\n",
       "\n",
       "    .dataframe tbody tr th {\n",
       "        vertical-align: top;\n",
       "    }\n",
       "\n",
       "    .dataframe thead th {\n",
       "        text-align: right;\n",
       "    }\n",
       "</style>\n",
       "<table border=\"1\" class=\"dataframe\">\n",
       "  <thead>\n",
       "    <tr style=\"text-align: right;\">\n",
       "      <th></th>\n",
       "      <th>Record Date</th>\n",
       "      <th>Total Smart Cards</th>\n",
       "      <th>Stored Value Card</th>\n",
       "      <th>One Day Pass</th>\n",
       "      <th>Three Day Pass</th>\n",
       "      <th>Five Day Pass</th>\n",
       "      <th>Tokens</th>\n",
       "      <th>Total NCMC</th>\n",
       "      <th>Group Ticket</th>\n",
       "      <th>Total QR</th>\n",
       "      <th>QR NammaMetro</th>\n",
       "      <th>QR WhatsApp</th>\n",
       "      <th>QR Paytm</th>\n",
       "    </tr>\n",
       "  </thead>\n",
       "  <tbody>\n",
       "    <tr>\n",
       "      <th>0</th>\n",
       "      <td>03-11-2024</td>\n",
       "      <td>131411</td>\n",
       "      <td>130715</td>\n",
       "      <td>595</td>\n",
       "      <td>61</td>\n",
       "      <td>40</td>\n",
       "      <td>248051</td>\n",
       "      <td>3174</td>\n",
       "      <td>283</td>\n",
       "      <td>153605</td>\n",
       "      <td>41775</td>\n",
       "      <td>84027</td>\n",
       "      <td>27803</td>\n",
       "    </tr>\n",
       "  </tbody>\n",
       "</table>\n",
       "</div>"
      ],
      "text/plain": [
       "  Record Date  Total Smart Cards  Stored Value Card  One Day Pass  \\\n",
       "0  03-11-2024             131411             130715           595   \n",
       "\n",
       "   Three Day Pass  Five Day Pass  Tokens  Total NCMC  Group Ticket  Total QR  \\\n",
       "0              61             40  248051        3174           283    153605   \n",
       "\n",
       "   QR NammaMetro  QR WhatsApp  QR Paytm  \n",
       "0          41775        84027     27803  "
      ]
     },
     "execution_count": 6,
     "metadata": {},
     "output_type": "execute_result"
    }
   ],
   "source": [
    "# Parse html for remaining data points and store in pandas dataframe\n",
    "data_points = driver.find_elements(By.CLASS_NAME, \"features-card.achivement-area.bg-color\")\n",
    "\n",
    "for l1 in data_points:\n",
    "    for l2 in l1.text.split('\\n'):\n",
    "        data = l2.split(': ')\n",
    "        day_record[data[0]] = [int(data[1])]\n",
    "\n",
    "driver.quit()\n",
    "\n",
    "day_record = pd.DataFrame(day_record)\n",
    "day_record"
   ]
  },
  {
   "cell_type": "code",
   "execution_count": 7,
   "metadata": {},
   "outputs": [
    {
     "name": "stdout",
     "output_type": "stream",
     "text": [
      "Appended NammaMetro_Ridership_Dataset.csv\n"
     ]
    }
   ],
   "source": [
    "# Store data in csv file - create file if necessary\n",
    "filename = \"NammaMetro_Ridership_Dataset.csv\"  \n",
    "filePath = Path(filename)\n",
    "\n",
    "if filePath.exists() and filePath.is_file():\n",
    "    day_record.to_csv(filename, mode='a', header=False)\n",
    "    print('Appended '+filename)\n",
    "else:\n",
    "    day_record.to_csv(filename, mode='w', header=True)\n",
    "    print('Created '+filename)"
   ]
  },
  {
   "cell_type": "code",
   "execution_count": 8,
   "metadata": {},
   "outputs": [
    {
     "data": {
      "text/html": [
       "<div>\n",
       "<style scoped>\n",
       "    .dataframe tbody tr th:only-of-type {\n",
       "        vertical-align: middle;\n",
       "    }\n",
       "\n",
       "    .dataframe tbody tr th {\n",
       "        vertical-align: top;\n",
       "    }\n",
       "\n",
       "    .dataframe thead th {\n",
       "        text-align: right;\n",
       "    }\n",
       "</style>\n",
       "<table border=\"1\" class=\"dataframe\">\n",
       "  <thead>\n",
       "    <tr style=\"text-align: right;\">\n",
       "      <th></th>\n",
       "      <th>Record Date</th>\n",
       "      <th>Total Smart Cards</th>\n",
       "      <th>Stored Value Card</th>\n",
       "      <th>One Day Pass</th>\n",
       "      <th>Three Day Pass</th>\n",
       "      <th>Five Day Pass</th>\n",
       "      <th>Tokens</th>\n",
       "      <th>Total NCMC</th>\n",
       "      <th>Group Ticket</th>\n",
       "      <th>Total QR</th>\n",
       "      <th>QR NammaMetro</th>\n",
       "      <th>QR WhatsApp</th>\n",
       "      <th>QR Paytm</th>\n",
       "    </tr>\n",
       "  </thead>\n",
       "  <tbody>\n",
       "    <tr>\n",
       "      <th>3</th>\n",
       "      <td>29-10-2024</td>\n",
       "      <td>452299</td>\n",
       "      <td>451672</td>\n",
       "      <td>471</td>\n",
       "      <td>115</td>\n",
       "      <td>41</td>\n",
       "      <td>205421</td>\n",
       "      <td>10948</td>\n",
       "      <td>407</td>\n",
       "      <td>182210</td>\n",
       "      <td>53315</td>\n",
       "      <td>94739</td>\n",
       "      <td>34156.0</td>\n",
       "    </tr>\n",
       "    <tr>\n",
       "      <th>4</th>\n",
       "      <td>30-10-2024</td>\n",
       "      <td>425759</td>\n",
       "      <td>425115</td>\n",
       "      <td>494</td>\n",
       "      <td>104</td>\n",
       "      <td>46</td>\n",
       "      <td>233366</td>\n",
       "      <td>9975</td>\n",
       "      <td>198</td>\n",
       "      <td>201583</td>\n",
       "      <td>51942</td>\n",
       "      <td>111291</td>\n",
       "      <td>38350.0</td>\n",
       "    </tr>\n",
       "    <tr>\n",
       "      <th>5</th>\n",
       "      <td>01-11-2024</td>\n",
       "      <td>113699</td>\n",
       "      <td>112775</td>\n",
       "      <td>855</td>\n",
       "      <td>57</td>\n",
       "      <td>12</td>\n",
       "      <td>189823</td>\n",
       "      <td>2714</td>\n",
       "      <td>406</td>\n",
       "      <td>97700</td>\n",
       "      <td>25978</td>\n",
       "      <td>51723</td>\n",
       "      <td>19999.0</td>\n",
       "    </tr>\n",
       "    <tr>\n",
       "      <th>6</th>\n",
       "      <td>02-11-2024</td>\n",
       "      <td>130437</td>\n",
       "      <td>129176</td>\n",
       "      <td>1101</td>\n",
       "      <td>113</td>\n",
       "      <td>47</td>\n",
       "      <td>224349</td>\n",
       "      <td>3004</td>\n",
       "      <td>227</td>\n",
       "      <td>122267</td>\n",
       "      <td>31641</td>\n",
       "      <td>65913</td>\n",
       "      <td>24713.0</td>\n",
       "    </tr>\n",
       "    <tr>\n",
       "      <th>7</th>\n",
       "      <td>03-11-2024</td>\n",
       "      <td>131411</td>\n",
       "      <td>130715</td>\n",
       "      <td>595</td>\n",
       "      <td>61</td>\n",
       "      <td>40</td>\n",
       "      <td>248051</td>\n",
       "      <td>3174</td>\n",
       "      <td>283</td>\n",
       "      <td>153605</td>\n",
       "      <td>41775</td>\n",
       "      <td>84027</td>\n",
       "      <td>27803.0</td>\n",
       "    </tr>\n",
       "  </tbody>\n",
       "</table>\n",
       "</div>"
      ],
      "text/plain": [
       "  Record Date  Total Smart Cards  Stored Value Card  One Day Pass  \\\n",
       "3  29-10-2024             452299             451672           471   \n",
       "4  30-10-2024             425759             425115           494   \n",
       "5  01-11-2024             113699             112775           855   \n",
       "6  02-11-2024             130437             129176          1101   \n",
       "7  03-11-2024             131411             130715           595   \n",
       "\n",
       "   Three Day Pass  Five Day Pass  Tokens  Total NCMC  Group Ticket  Total QR  \\\n",
       "3             115             41  205421       10948           407    182210   \n",
       "4             104             46  233366        9975           198    201583   \n",
       "5              57             12  189823        2714           406     97700   \n",
       "6             113             47  224349        3004           227    122267   \n",
       "7              61             40  248051        3174           283    153605   \n",
       "\n",
       "   QR NammaMetro  QR WhatsApp  QR Paytm  \n",
       "3          53315        94739   34156.0  \n",
       "4          51942       111291   38350.0  \n",
       "5          25978        51723   19999.0  \n",
       "6          31641        65913   24713.0  \n",
       "7          41775        84027   27803.0  "
      ]
     },
     "execution_count": 8,
     "metadata": {},
     "output_type": "execute_result"
    }
   ],
   "source": [
    "# Optimize dataset by removing duplicates and rewrite to file\n",
    "df = pd.read_csv(filename, index_col=0).drop_duplicates(keep='last', ignore_index=True)\n",
    "df.to_csv(filename, mode='w', header=True)\n",
    "df.tail()"
   ]
  }
 ],
 "metadata": {
  "kernelspec": {
   "display_name": "scala",
   "language": "python",
   "name": "python3"
  },
  "language_info": {
   "codemirror_mode": {
    "name": "ipython",
    "version": 3
   },
   "file_extension": ".py",
   "mimetype": "text/x-python",
   "name": "python",
   "nbconvert_exporter": "python",
   "pygments_lexer": "ipython3",
   "version": "3.12.7"
  }
 },
 "nbformat": 4,
 "nbformat_minor": 2
}
