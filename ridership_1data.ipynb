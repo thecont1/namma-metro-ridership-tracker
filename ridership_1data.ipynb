{
 "cells": [
  {
   "cell_type": "code",
   "execution_count": 33,
   "metadata": {},
   "outputs": [],
   "source": [
    "import pandas as pd\n",
    "from selenium import webdriver\n",
    "from selenium.webdriver.common.by import By\n",
    "from selenium.webdriver.chrome.options import Options\n",
    "from pathlib import Path\n",
    "import time\n",
    "\n",
    "filename = \"NammaMetro_Ridership_Dataset.csv\""
   ]
  },
  {
   "cell_type": "code",
   "execution_count": 34,
   "metadata": {},
   "outputs": [],
   "source": [
    "# Selenium options required to create a 'headless' browser\n",
    "options = Options()\n",
    "options.add_argument(\"--blink-settings=imagesEnabled=false\")\n",
    "options.add_argument(\"--headless=new\")\n",
    "options.add_argument(\"--disable-gpu\")\n",
    "options.add_argument(\"--no-sandbox\")\n",
    "options.add_argument(\"user-agent=Mozilla/5.0 (Windows NT 10.0; Win64; x64) AppleWebKit/537.36 (KHTML, like Gecko) Chrome/110.0.5481.77 Safari/537.37\")\n",
    "\n",
    "driver = webdriver.Chrome(options=options)"
   ]
  },
  {
   "cell_type": "code",
   "execution_count": 35,
   "metadata": {},
   "outputs": [],
   "source": [
    "# Load ridership page from BMRCL website\n",
    "driver.get(\"https://english.bmrc.co.in/ridership/\")\n",
    "\n",
    "# Click on Kannada toggle button to load English results\n",
    "time.sleep(10)  # Allow extra time for JavaScript to load translated data\n",
    "result = driver.find_element(By.CLASS_NAME, \"link.top-navcustom-text\").click()"
   ]
  },
  {
   "cell_type": "code",
   "execution_count": 36,
   "metadata": {},
   "outputs": [
    {
     "data": {
      "text/plain": [
       "'Passenger Flow as on 04-04-2025'"
      ]
     },
     "execution_count": 36,
     "metadata": {},
     "output_type": "execute_result"
    }
   ],
   "source": [
    "# Results are published with a lag of about one day. \n",
    "# So get the date on the page rather than date.today()\n",
    "record_date = driver.find_element(By.TAG_NAME, \"h3\").text\n",
    "record_date"
   ]
  },
  {
   "cell_type": "code",
   "execution_count": 37,
   "metadata": {},
   "outputs": [
    {
     "data": {
      "text/plain": [
       "{'Record Date': ['04-04-2025']}"
      ]
     },
     "execution_count": 37,
     "metadata": {},
     "output_type": "execute_result"
    }
   ],
   "source": [
    "# Initialize dict to store ridership data\n",
    "day_record = {}\n",
    "day_record['Record Date'] = [record_date.split()[-1]]  # Extracting date part\n",
    "day_record"
   ]
  },
  {
   "cell_type": "code",
   "execution_count": 38,
   "metadata": {},
   "outputs": [
    {
     "data": {
      "text/html": [
       "<div>\n",
       "<style scoped>\n",
       "    .dataframe tbody tr th:only-of-type {\n",
       "        vertical-align: middle;\n",
       "    }\n",
       "\n",
       "    .dataframe tbody tr th {\n",
       "        vertical-align: top;\n",
       "    }\n",
       "\n",
       "    .dataframe thead th {\n",
       "        text-align: right;\n",
       "    }\n",
       "</style>\n",
       "<table border=\"1\" class=\"dataframe\">\n",
       "  <thead>\n",
       "    <tr style=\"text-align: right;\">\n",
       "      <th></th>\n",
       "      <th>Record Date</th>\n",
       "      <th>Total Smart Cards</th>\n",
       "      <th>Stored Value Card</th>\n",
       "      <th>One Day Pass</th>\n",
       "      <th>Three Day Pass</th>\n",
       "      <th>Five Day Pass</th>\n",
       "      <th>Total Tokens</th>\n",
       "      <th>Total NCMC</th>\n",
       "      <th>Group Ticket</th>\n",
       "      <th>Total QR</th>\n",
       "      <th>QR NammaMetro</th>\n",
       "      <th>QR WhatsApp</th>\n",
       "      <th>QR Paytm</th>\n",
       "    </tr>\n",
       "  </thead>\n",
       "  <tbody>\n",
       "    <tr>\n",
       "      <th>0</th>\n",
       "      <td>04-04-2025</td>\n",
       "      <td>419016</td>\n",
       "      <td>418537</td>\n",
       "      <td>136</td>\n",
       "      <td>36</td>\n",
       "      <td>307</td>\n",
       "      <td>202926</td>\n",
       "      <td>10892</td>\n",
       "      <td>249</td>\n",
       "      <td>169503</td>\n",
       "      <td>47705</td>\n",
       "      <td>91362</td>\n",
       "      <td>30436</td>\n",
       "    </tr>\n",
       "  </tbody>\n",
       "</table>\n",
       "</div>"
      ],
      "text/plain": [
       "  Record Date  Total Smart Cards  Stored Value Card  One Day Pass  \\\n",
       "0  04-04-2025             419016             418537           136   \n",
       "\n",
       "   Three Day Pass  Five Day Pass  Total Tokens  Total NCMC  Group Ticket  \\\n",
       "0              36            307        202926       10892           249   \n",
       "\n",
       "   Total QR  QR NammaMetro  QR WhatsApp  QR Paytm  \n",
       "0    169503          47705        91362     30436  "
      ]
     },
     "execution_count": 38,
     "metadata": {},
     "output_type": "execute_result"
    }
   ],
   "source": [
    "# Parse html for remaining data points and store in pandas dataframe\n",
    "data_points = driver.find_elements(By.CLASS_NAME, \"features-card.achivement-area.bg-color\")\n",
    "\n",
    "for l1 in data_points:\n",
    "    for l2 in l1.text.split('\\n'):\n",
    "        data = l2.split(': ')\n",
    "        day_record[data[0]] = [int(data[1])]\n",
    "\n",
    "driver.quit()\n",
    "\n",
    "day_record = pd.DataFrame(day_record)\n",
    "day_record.rename(columns={'Tokens':'Total Tokens'}, inplace=True)\n",
    "day_record"
   ]
  },
  {
   "cell_type": "code",
   "execution_count": 43,
   "metadata": {},
   "outputs": [
    {
     "name": "stdout",
     "output_type": "stream",
     "text": [
      "Appended NammaMetro_Ridership_Dataset.csv\n"
     ]
    }
   ],
   "source": [
    "# Store data in csv file - create file if necessary\n",
    "filePath = Path(filename)\n",
    "if filePath.exists() and filePath.is_file():\n",
    "    day_record.to_csv(filename, mode='a', header=False, index=False, lineterminator='\\n')\n",
    "    print('Appended '+filename)\n",
    "else:\n",
    "    day_record.to_csv(filename, mode='w', header=True, index=False, lineterminator='\\n')\n",
    "    print('Created '+filename)"
   ]
  },
  {
   "cell_type": "code",
   "execution_count": 44,
   "metadata": {},
   "outputs": [
    {
     "data": {
      "text/html": [
       "<div>\n",
       "<style scoped>\n",
       "    .dataframe tbody tr th:only-of-type {\n",
       "        vertical-align: middle;\n",
       "    }\n",
       "\n",
       "    .dataframe tbody tr th {\n",
       "        vertical-align: top;\n",
       "    }\n",
       "\n",
       "    .dataframe thead th {\n",
       "        text-align: right;\n",
       "    }\n",
       "</style>\n",
       "<table border=\"1\" class=\"dataframe\">\n",
       "  <thead>\n",
       "    <tr style=\"text-align: right;\">\n",
       "      <th></th>\n",
       "      <th>Record Date</th>\n",
       "      <th>Total Smart Cards</th>\n",
       "      <th>Stored Value Card</th>\n",
       "      <th>One Day Pass</th>\n",
       "      <th>Three Day Pass</th>\n",
       "      <th>Five Day Pass</th>\n",
       "      <th>Total Tokens</th>\n",
       "      <th>Total NCMC</th>\n",
       "      <th>Group Ticket</th>\n",
       "      <th>Total QR</th>\n",
       "      <th>QR NammaMetro</th>\n",
       "      <th>QR WhatsApp</th>\n",
       "      <th>QR Paytm</th>\n",
       "    </tr>\n",
       "  </thead>\n",
       "  <tbody>\n",
       "    <tr>\n",
       "      <th>127</th>\n",
       "      <td>26-03-2025</td>\n",
       "      <td>449665</td>\n",
       "      <td>448857</td>\n",
       "      <td>207</td>\n",
       "      <td>40</td>\n",
       "      <td>561</td>\n",
       "      <td>191193</td>\n",
       "      <td>20478</td>\n",
       "      <td>76</td>\n",
       "      <td>155934</td>\n",
       "      <td>42766</td>\n",
       "      <td>83068</td>\n",
       "      <td>30100</td>\n",
       "    </tr>\n",
       "    <tr>\n",
       "      <th>128</th>\n",
       "      <td>29-03-2025</td>\n",
       "      <td>270949</td>\n",
       "      <td>270298</td>\n",
       "      <td>472</td>\n",
       "      <td>55</td>\n",
       "      <td>124</td>\n",
       "      <td>209774</td>\n",
       "      <td>10861</td>\n",
       "      <td>288</td>\n",
       "      <td>186852</td>\n",
       "      <td>52338</td>\n",
       "      <td>101606</td>\n",
       "      <td>32908</td>\n",
       "    </tr>\n",
       "    <tr>\n",
       "      <th>129</th>\n",
       "      <td>30-03-2025</td>\n",
       "      <td>96209</td>\n",
       "      <td>95682</td>\n",
       "      <td>428</td>\n",
       "      <td>30</td>\n",
       "      <td>69</td>\n",
       "      <td>172307</td>\n",
       "      <td>4444</td>\n",
       "      <td>72</td>\n",
       "      <td>129763</td>\n",
       "      <td>35130</td>\n",
       "      <td>69634</td>\n",
       "      <td>24999</td>\n",
       "    </tr>\n",
       "    <tr>\n",
       "      <th>130</th>\n",
       "      <td>31-03-2025</td>\n",
       "      <td>208196</td>\n",
       "      <td>207708</td>\n",
       "      <td>228</td>\n",
       "      <td>29</td>\n",
       "      <td>231</td>\n",
       "      <td>208738</td>\n",
       "      <td>9122</td>\n",
       "      <td>0</td>\n",
       "      <td>145793</td>\n",
       "      <td>40258</td>\n",
       "      <td>79349</td>\n",
       "      <td>26186</td>\n",
       "    </tr>\n",
       "    <tr>\n",
       "      <th>131</th>\n",
       "      <td>04-04-2025</td>\n",
       "      <td>419016</td>\n",
       "      <td>418537</td>\n",
       "      <td>136</td>\n",
       "      <td>36</td>\n",
       "      <td>307</td>\n",
       "      <td>202926</td>\n",
       "      <td>10892</td>\n",
       "      <td>249</td>\n",
       "      <td>169503</td>\n",
       "      <td>47705</td>\n",
       "      <td>91362</td>\n",
       "      <td>30436</td>\n",
       "    </tr>\n",
       "  </tbody>\n",
       "</table>\n",
       "</div>"
      ],
      "text/plain": [
       "    Record Date  Total Smart Cards  Stored Value Card  One Day Pass  \\\n",
       "127  26-03-2025             449665             448857           207   \n",
       "128  29-03-2025             270949             270298           472   \n",
       "129  30-03-2025              96209              95682           428   \n",
       "130  31-03-2025             208196             207708           228   \n",
       "131  04-04-2025             419016             418537           136   \n",
       "\n",
       "     Three Day Pass  Five Day Pass  Total Tokens  Total NCMC  Group Ticket  \\\n",
       "127              40            561        191193       20478            76   \n",
       "128              55            124        209774       10861           288   \n",
       "129              30             69        172307        4444            72   \n",
       "130              29            231        208738        9122             0   \n",
       "131              36            307        202926       10892           249   \n",
       "\n",
       "     Total QR  QR NammaMetro  QR WhatsApp  QR Paytm  \n",
       "127    155934          42766        83068     30100  \n",
       "128    186852          52338       101606     32908  \n",
       "129    129763          35130        69634     24999  \n",
       "130    145793          40258        79349     26186  \n",
       "131    169503          47705        91362     30436  "
      ]
     },
     "execution_count": 44,
     "metadata": {},
     "output_type": "execute_result"
    }
   ],
   "source": [
    "# Optimize dataset by removing duplicates and rewrite to file\n",
    "df = pd.read_csv(filename).drop_duplicates(subset=['Record Date'], keep='last', ignore_index=True)\n",
    "df[df.loc[:, 'Total Smart Cards':].columns] = df[df.loc[:, 'Total Smart Cards':].columns].astype('Int64')\n",
    "df.to_csv(filename, mode='w', header=True, index=False, lineterminator='\\n')\n",
    "df.tail()"
   ]
  }
 ],
 "metadata": {
  "kernelspec": {
   "display_name": "plabian",
   "language": "python",
   "name": "python3"
  },
  "language_info": {
   "codemirror_mode": {
    "name": "ipython",
    "version": 3
   },
   "file_extension": ".py",
   "mimetype": "text/x-python",
   "name": "python",
   "nbconvert_exporter": "python",
   "pygments_lexer": "ipython3",
   "version": "3.13.2"
  }
 },
 "nbformat": 4,
 "nbformat_minor": 2
}
