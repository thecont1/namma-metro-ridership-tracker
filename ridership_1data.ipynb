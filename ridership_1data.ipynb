{
 "cells": [
  {
   "cell_type": "code",
   "execution_count": 2,
   "metadata": {},
   "outputs": [],
   "source": [
    "import pandas as pd\n",
    "from selenium import webdriver\n",
    "from selenium.webdriver.common.by import By\n",
    "from selenium.webdriver.chrome.options import Options\n",
    "from pathlib import Path\n",
    "import time\n",
    "\n",
    "filename = \"NammaMetro_Ridership_Dataset.csv\""
   ]
  },
  {
   "cell_type": "code",
   "execution_count": 3,
   "metadata": {},
   "outputs": [],
   "source": [
    "# Selenium options required to create a 'headless' browser\n",
    "options = Options()\n",
    "options.add_argument(\"--blink-settings=imagesEnabled=false\")\n",
    "options.add_argument(\"--headless=new\")\n",
    "options.add_argument(\"--disable-gpu\")\n",
    "options.add_argument(\"--no-sandbox\")\n",
    "options.add_argument(\"user-agent=Mozilla/5.0 (Windows NT 10.0; Win64; x64) AppleWebKit/537.36 (KHTML, like Gecko) Chrome/110.0.5481.77 Safari/537.37\")\n",
    "\n",
    "driver = webdriver.Chrome(options=options)"
   ]
  },
  {
   "cell_type": "code",
   "execution_count": 4,
   "metadata": {},
   "outputs": [],
   "source": [
    "# Load ridership page from BMRCL website\n",
    "driver.get(\"https://english.bmrc.co.in/ridership/\")\n",
    "\n",
    "# Click on Kannada toggle button to load English results\n",
    "time.sleep(10)  # Allow extra time for JavaScript to load translated data\n",
    "result = driver.find_element(By.CLASS_NAME, \"link.top-navcustom-text\").click()"
   ]
  },
  {
   "cell_type": "code",
   "execution_count": 5,
   "metadata": {},
   "outputs": [
    {
     "data": {
      "text/plain": [
       "'Passenger Flow as on 12-08-2025'"
      ]
     },
     "execution_count": 5,
     "metadata": {},
     "output_type": "execute_result"
    }
   ],
   "source": [
    "# Results are published with a lag of about one day. \n",
    "# So get the date on the page rather than date.today()\n",
    "record_date = driver.find_element(By.TAG_NAME, \"h3\").text\n",
    "record_date"
   ]
  },
  {
   "cell_type": "code",
   "execution_count": 6,
   "metadata": {},
   "outputs": [
    {
     "data": {
      "text/plain": [
       "{'Record Date': ['12-08-2025']}"
      ]
     },
     "execution_count": 6,
     "metadata": {},
     "output_type": "execute_result"
    }
   ],
   "source": [
    "# Initialize dict to store ridership data\n",
    "day_record = {}\n",
    "day_record['Record Date'] = [record_date.split()[-1]]  # Extracting date part\n",
    "day_record"
   ]
  },
  {
   "cell_type": "code",
   "execution_count": 7,
   "metadata": {},
   "outputs": [
    {
     "data": {
      "text/html": [
       "<div>\n",
       "<style scoped>\n",
       "    .dataframe tbody tr th:only-of-type {\n",
       "        vertical-align: middle;\n",
       "    }\n",
       "\n",
       "    .dataframe tbody tr th {\n",
       "        vertical-align: top;\n",
       "    }\n",
       "\n",
       "    .dataframe thead th {\n",
       "        text-align: right;\n",
       "    }\n",
       "</style>\n",
       "<table border=\"1\" class=\"dataframe\">\n",
       "  <thead>\n",
       "    <tr style=\"text-align: right;\">\n",
       "      <th></th>\n",
       "      <th>Record Date</th>\n",
       "      <th>Total Smart Cards</th>\n",
       "      <th>Stored Value Card</th>\n",
       "      <th>One Day Pass</th>\n",
       "      <th>Three Day Pass</th>\n",
       "      <th>Five Day Pass</th>\n",
       "      <th>Total Tokens</th>\n",
       "      <th>Total NCMC</th>\n",
       "      <th>Group Ticket</th>\n",
       "      <th>Total QR</th>\n",
       "      <th>QR NammaMetro</th>\n",
       "      <th>QR WhatsApp</th>\n",
       "      <th>QR Paytm</th>\n",
       "    </tr>\n",
       "  </thead>\n",
       "  <tbody>\n",
       "    <tr>\n",
       "      <th>0</th>\n",
       "      <td>12-08-2025</td>\n",
       "      <td>525613</td>\n",
       "      <td>524958</td>\n",
       "      <td>259</td>\n",
       "      <td>56</td>\n",
       "      <td>340</td>\n",
       "      <td>263412</td>\n",
       "      <td>34320</td>\n",
       "      <td>576</td>\n",
       "      <td>208766</td>\n",
       "      <td>65190</td>\n",
       "      <td>105273</td>\n",
       "      <td>38303</td>\n",
       "    </tr>\n",
       "  </tbody>\n",
       "</table>\n",
       "</div>"
      ],
      "text/plain": [
       "  Record Date  Total Smart Cards  Stored Value Card  One Day Pass  \\\n",
       "0  12-08-2025             525613             524958           259   \n",
       "\n",
       "   Three Day Pass  Five Day Pass  Total Tokens  Total NCMC  Group Ticket  \\\n",
       "0              56            340        263412       34320           576   \n",
       "\n",
       "   Total QR  QR NammaMetro  QR WhatsApp  QR Paytm  \n",
       "0    208766          65190       105273     38303  "
      ]
     },
     "execution_count": 7,
     "metadata": {},
     "output_type": "execute_result"
    }
   ],
   "source": [
    "# Parse html for remaining data points and store in pandas dataframe\n",
    "data_points = driver.find_elements(By.CLASS_NAME, \"features-card.achivement-area.bg-color\")\n",
    "\n",
    "for l1 in data_points:\n",
    "    for l2 in l1.text.split('\\n'):\n",
    "        data = l2.split(': ')\n",
    "        day_record[data[0]] = [int(data[1])]\n",
    "\n",
    "driver.quit()\n",
    "\n",
    "day_record = pd.DataFrame(day_record)\n",
    "day_record.rename(columns={'Tokens':'Total Tokens'}, inplace=True)\n",
    "day_record"
   ]
  },
  {
   "cell_type": "code",
   "execution_count": 8,
   "metadata": {},
   "outputs": [
    {
     "name": "stdout",
     "output_type": "stream",
     "text": [
      "Appended NammaMetro_Ridership_Dataset.csv\n"
     ]
    }
   ],
   "source": [
    "# Store data in csv file - create file if necessary\n",
    "filePath = Path(filename)\n",
    "if filePath.exists() and filePath.is_file():\n",
    "    day_record.to_csv(filename, mode='a', header=False, index=False, lineterminator='\\n')\n",
    "    print('Appended '+filename)\n",
    "else:\n",
    "    day_record.to_csv(filename, mode='w', header=True, index=False, lineterminator='\\n')\n",
    "    print('Created '+filename)"
   ]
  },
  {
   "cell_type": "code",
   "execution_count": 9,
   "metadata": {},
   "outputs": [
    {
     "data": {
      "text/html": [
       "<div>\n",
       "<style scoped>\n",
       "    .dataframe tbody tr th:only-of-type {\n",
       "        vertical-align: middle;\n",
       "    }\n",
       "\n",
       "    .dataframe tbody tr th {\n",
       "        vertical-align: top;\n",
       "    }\n",
       "\n",
       "    .dataframe thead th {\n",
       "        text-align: right;\n",
       "    }\n",
       "</style>\n",
       "<table border=\"1\" class=\"dataframe\">\n",
       "  <thead>\n",
       "    <tr style=\"text-align: right;\">\n",
       "      <th></th>\n",
       "      <th>Record Date</th>\n",
       "      <th>Total Smart Cards</th>\n",
       "      <th>Stored Value Card</th>\n",
       "      <th>One Day Pass</th>\n",
       "      <th>Three Day Pass</th>\n",
       "      <th>Five Day Pass</th>\n",
       "      <th>Total Tokens</th>\n",
       "      <th>Total NCMC</th>\n",
       "      <th>Group Ticket</th>\n",
       "      <th>Total QR</th>\n",
       "      <th>QR NammaMetro</th>\n",
       "      <th>QR WhatsApp</th>\n",
       "      <th>QR Paytm</th>\n",
       "    </tr>\n",
       "  </thead>\n",
       "  <tbody>\n",
       "    <tr>\n",
       "      <th>219</th>\n",
       "      <td>02-08-2025</td>\n",
       "      <td>300912</td>\n",
       "      <td>300440</td>\n",
       "      <td>320</td>\n",
       "      <td>16</td>\n",
       "      <td>136</td>\n",
       "      <td>248287</td>\n",
       "      <td>17623</td>\n",
       "      <td>414</td>\n",
       "      <td>217745</td>\n",
       "      <td>59387</td>\n",
       "      <td>120400</td>\n",
       "      <td>37958</td>\n",
       "    </tr>\n",
       "    <tr>\n",
       "      <th>220</th>\n",
       "      <td>04-08-2025</td>\n",
       "      <td>443237</td>\n",
       "      <td>442573</td>\n",
       "      <td>116</td>\n",
       "      <td>9</td>\n",
       "      <td>539</td>\n",
       "      <td>218087</td>\n",
       "      <td>26260</td>\n",
       "      <td>107</td>\n",
       "      <td>180895</td>\n",
       "      <td>52657</td>\n",
       "      <td>96641</td>\n",
       "      <td>31597</td>\n",
       "    </tr>\n",
       "    <tr>\n",
       "      <th>221</th>\n",
       "      <td>06-08-2025</td>\n",
       "      <td>475439</td>\n",
       "      <td>474681</td>\n",
       "      <td>169</td>\n",
       "      <td>44</td>\n",
       "      <td>545</td>\n",
       "      <td>213525</td>\n",
       "      <td>29037</td>\n",
       "      <td>185</td>\n",
       "      <td>179785</td>\n",
       "      <td>51217</td>\n",
       "      <td>96343</td>\n",
       "      <td>32225</td>\n",
       "    </tr>\n",
       "    <tr>\n",
       "      <th>222</th>\n",
       "      <td>11-08-2025</td>\n",
       "      <td>503837</td>\n",
       "      <td>503041</td>\n",
       "      <td>436</td>\n",
       "      <td>49</td>\n",
       "      <td>311</td>\n",
       "      <td>303165</td>\n",
       "      <td>32198</td>\n",
       "      <td>450</td>\n",
       "      <td>208382</td>\n",
       "      <td>71042</td>\n",
       "      <td>96001</td>\n",
       "      <td>41339</td>\n",
       "    </tr>\n",
       "    <tr>\n",
       "      <th>223</th>\n",
       "      <td>12-08-2025</td>\n",
       "      <td>525613</td>\n",
       "      <td>524958</td>\n",
       "      <td>259</td>\n",
       "      <td>56</td>\n",
       "      <td>340</td>\n",
       "      <td>263412</td>\n",
       "      <td>34320</td>\n",
       "      <td>576</td>\n",
       "      <td>208766</td>\n",
       "      <td>65190</td>\n",
       "      <td>105273</td>\n",
       "      <td>38303</td>\n",
       "    </tr>\n",
       "  </tbody>\n",
       "</table>\n",
       "</div>"
      ],
      "text/plain": [
       "    Record Date  Total Smart Cards  Stored Value Card  One Day Pass  \\\n",
       "219  02-08-2025             300912             300440           320   \n",
       "220  04-08-2025             443237             442573           116   \n",
       "221  06-08-2025             475439             474681           169   \n",
       "222  11-08-2025             503837             503041           436   \n",
       "223  12-08-2025             525613             524958           259   \n",
       "\n",
       "     Three Day Pass  Five Day Pass  Total Tokens  Total NCMC  Group Ticket  \\\n",
       "219              16            136        248287       17623           414   \n",
       "220               9            539        218087       26260           107   \n",
       "221              44            545        213525       29037           185   \n",
       "222              49            311        303165       32198           450   \n",
       "223              56            340        263412       34320           576   \n",
       "\n",
       "     Total QR  QR NammaMetro  QR WhatsApp  QR Paytm  \n",
       "219    217745          59387       120400     37958  \n",
       "220    180895          52657        96641     31597  \n",
       "221    179785          51217        96343     32225  \n",
       "222    208382          71042        96001     41339  \n",
       "223    208766          65190       105273     38303  "
      ]
     },
     "execution_count": 9,
     "metadata": {},
     "output_type": "execute_result"
    }
   ],
   "source": [
    "# Optimize dataset by removing duplicates and rewrite to file\n",
    "df = pd.read_csv(filename).drop_duplicates(subset=['Record Date'], keep='last', ignore_index=True)\n",
    "df[df.loc[:, 'Total Smart Cards':].columns] = df[df.loc[:, 'Total Smart Cards':].columns].astype('Int64')\n",
    "df.to_csv(filename, mode='w', header=True, index=False, lineterminator='\\n')\n",
    "df.tail()"
   ]
  }
 ],
 "metadata": {
  "kernelspec": {
   "display_name": "jk-namma-metro",
   "language": "python",
   "name": "jk-namma-metro"
  },
  "language_info": {
   "codemirror_mode": {
    "name": "ipython",
    "version": 3
   },
   "file_extension": ".py",
   "mimetype": "text/x-python",
   "name": "python",
   "nbconvert_exporter": "python",
   "pygments_lexer": "ipython3",
   "version": "3.13.6"
  }
 },
 "nbformat": 4,
 "nbformat_minor": 2
}
